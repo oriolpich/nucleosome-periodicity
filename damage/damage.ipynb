{
 "cells": [
  {
   "cell_type": "markdown",
   "metadata": {},
   "source": [
    "# Damage data\n",
    "\n",
    "\n",
    "We have analysed damage data for 2 species:\n",
    "\n",
    "- [UV damage](#uv) for H. sapiens\n",
    "- [NMP damage](#nmp) for S. cerevisiae\n",
    "\n",
    "\n",
    "To be able to run this notebook it is required to run previously the ones in the following folders: nucleosomes, rotational and increase. In addition, some external data needs to be downloaded. In each section you can find further details."
   ]
  },
  {
   "cell_type": "markdown",
   "metadata": {
    "collapsed": true
   },
   "source": [
    "## UV damage <a id=\"uv\"></a>\n",
    "\n",
    "Create a folder named **uv** and place inside the data from https://www.ncbi.nlm.nih.gov/geo/download/?acc=GSE98025&format=file  \n",
    "Please, extract the tar file before running the notebook."
   ]
  },
  {
   "cell_type": "markdown",
   "metadata": {},
   "source": [
    "Get only the files and interest and combide the ones that are from the same experiment."
   ]
  },
  {
   "cell_type": "code",
   "execution_count": null,
   "metadata": {
    "collapsed": true
   },
   "outputs": [],
   "source": [
    "import os\n",
    "import gzip\n",
    "\n",
    "# Description from the original paper paper :\n",
    "# Bed files contain genomic locations of damages of the most common two dinucleotides at\n",
    "# the damage sites for (6-4)PP and CPD.\n",
    "# Each interval length is 10 nt, and the pyrimidine dimer is located at the 4-5th positions.\n",
    "#  Data obtained from wget https://www.ncbi.nlm.nih.gov/geo/download/?acc=GSE98025&format=file\n",
    "equivalent_ID = {\n",
    "                 'GSM2585687': 'NHF1_CPD_10J_0h_A',\n",
    "                 'GSM2585688': 'NHF1_CPD_10J_0h_B',\n",
    "                 'GSM2585693': 'NHF1_CPD_10J_24h_A',\n",
    "                 'GSM2585694': 'NHF1_CPD_10J_24h_B',\n",
    "                 'GSM2585715': 'GM12878_CPD_20J_nakedDNA_A',\n",
    "                 'GSM2585716': 'GM12878_CPD_20J_nakedDNA_C',\n",
    "                 'GSM2585701': 'NHF1_6-4_20J_0h_A',\n",
    "                 'GSM2585702': 'NHF1_6-4_20J_0h_B',\n",
    "                 'GSM2585705': 'NHF1_6-4_20J_1h_A',\n",
    "                 'GSM2585706': 'NHF1_6-4_20J_1h_B',\n",
    "                 'GSM2585711': 'GM12878_6-4_20J_nakedDNA_A',\n",
    "                 'GSM2585712': 'GM12878_6-4_20J_nakedDNA_C',\n",
    "                 }\n",
    "\n",
    "ws = 'uv'\n",
    "infiles = [f for f in os.listdir(ws) if f.endswith('.bed.gz')]\n",
    "\n",
    "outfiles = set()\n",
    "for file in infiles:\n",
    "    name_original = file.split('_')[0]\n",
    "    name_equivalent = equivalent_ID.get(name_original, None)\n",
    "    if name_equivalent is None:\n",
    "        continue\n",
    "    else:\n",
    "        name = name_equivalent.rsplit('_', 1)[0]\n",
    "\n",
    "    out_file = os.path.join(ws, name + '.tsv.gz')\n",
    "    \n",
    "    if out_file in outfiles:\n",
    "        mode = 'at'\n",
    "    else:\n",
    "        mode = 'wt'  # ensure the file is created from scratch\n",
    "    outfiles.add(out_file)\n",
    "\n",
    "    with gzip.open(os.path.join(ws, file), 'rt') as infile, gzip.open(out_file, mode) as outfile:\n",
    "        for line in infile:\n",
    "            line_spl = line.rstrip().split('\\t')\n",
    "            strand = line_spl[3]\n",
    "            chrom = line_spl[0]\n",
    "\n",
    "            # this is in theory where the damage is located\n",
    "            real_pos = int(line_spl[1]) + 5\n",
    "\n",
    "            # to make sure the damage is found always in the first dypirimidine of the middle in the read\n",
    "            if strand == '-':\n",
    "                real_pos = real_pos + 1\n",
    "\n",
    "            out = '{}\\t{}\\t-\\t-\\t-\\n'.format(chrom, real_pos)\n",
    "            outfile.write(out)"
   ]
  },
  {
   "cell_type": "markdown",
   "metadata": {
    "collapsed": true
   },
   "source": [
    "Compute the relative increase of the mutation rate:\n",
    "- ``increase_CPD_0h_high`` contains the zoomin analysis of *NHF1_CPD_10J_0h* using the high rotational dyads\n",
    "- ``increase_CPD_0h_low`` contains the zoomin analysis of *NHF1_CPD_10J_0h* using the low rotational dyads\n",
    "- ``increase_CPD_24h_high`` contains the zoomin analysis of *NHF1_CPD_10J_24h* using the high rotational dyads\n",
    "- ``increase_CPD_24h_low`` contains the zoomin analysis of *NHF1_CPD_10J_24h* using the low rotational dyads\n",
    "\n",
    "- ``increase_PP-6-4_0h`` contains the zoomin analysis of *NHF1_6-4_20J_0h* using all dyads\n",
    "- ``increase_PP-6-4_1h`` contains the zoomin analysis of *NHF1_6-4_20J_1h* using all dyads\n",
    "- ``increase_CPD_naked`` contains the zoomin analysis of *GM12878_CPD_20J_nakedDNA* using all dyads\n",
    "- ``increase_PP-6-4_naked`` contains the zoomin analysis of *GM12878_6-4_20J_nakedDNA* using all dyads"
   ]
  },
  {
   "cell_type": "code",
   "execution_count": null,
   "metadata": {
    "collapsed": true
   },
   "outputs": [],
   "source": [
    "%%bash --out output1 --err error1\n",
    "# TODO remove\n",
    "\n",
    "source activate env_nucperiod\n",
    "\n",
    "increase_scripts=${PWD}/../increase/scripts\n",
    "increase=${PWD}/../increase/sapiens\n",
    "mapping=${PWD}/../nucleosomes/sapiens\n",
    "rotational=${PWD}/../rotational/sapiens\n",
    "\n",
    "cd uv\n",
    "\n",
    "# NHF1_CPD_10J_0h\n",
    "bash ${increase_scripts}/increase.sh NHF1_CPD_10J_0h.tsv.gz zoomin hg19 5 ${rotational}/high_rotational_dyads.bed.gz \\\n",
    "    ${increase}/hg19_filtered_5mer_counts.json.gz increase_CPD_0h_high\n",
    "    \n",
    "bash ${increase_scripts}/increase.sh NHF1_CPD_10J_0h.tsv.gz zoomin hg19 5 ${rotational}/low_rotational_dyads.bed.gz \\\n",
    "    ${increase}/hg19_filtered_5mer_counts.json.gz increase_CPD_0h_low\n",
    "    \n",
    "# NHF1_CPD_10J_24h\n",
    "bash ${increase_scripts}/increase.sh NHF1_CPD_10J_24h.tsv.gz zoomin hg19 5 ${rotational}/high_rotational_dyads.bed.gz \\\n",
    "    ${increase}/hg19_filtered_5mer_counts.json.gz increase_CPD_24h_high\n",
    "    \n",
    "bash ${increase_scripts}/increase.sh NHF1_CPD_10J_24h.tsv.gz zoomin hg19 5 ${rotational}/low_rotational_dyads.bed.gz \\\n",
    "    ${increase}/hg19_filtered_5mer_counts.json.gz increase_CPD_24h_low\n",
    "\n",
    "# NHF1_6-4_20J_0h\n",
    "bash ${increase_scripts}/increase.sh NHF1_6-4_20J_0h.tsv.gz zoomin hg19 5 ${mapping}/dyads.bed.gz \\\n",
    "    ${increase}/hg19_filtered_5mer_counts.json.gz increase_PP-6-4_0h\n",
    "    \n",
    "# NHF1_6-4_20J_1h\n",
    "bash ${increase_scripts}/increase.sh NHF1_6-4_20J_1h.tsv.gz zoomin hg19 5 ${mapping}/dyads.bed.gz \\\n",
    "    ${increase}/hg19_filtered_5mer_counts.json.gz increase_PP-6-4_1h\n",
    "\n",
    "# GM12878_CPD_20J_nakedDNA\n",
    "bash ${increase_scripts}/increase.sh GM12878_CPD_20J_nakedDNA.tsv.gz zoomin hg19 5 ${mapping}/dyads.bed.gz \\\n",
    "    ${increase}/hg19_filtered_5mer_counts.json.gz increase_CPD_naked\n",
    "\n",
    "# GM12878_6-4_20J_nakedDNA\n",
    "bash ${increase_scripts}/increase.sh GM12878_6-4_20J_nakedDNA.tsv.gz zoomin hg19 5 ${mapping}/dyads.bed.gz \\\n",
    "    ${increase}/hg19_filtered_5mer_counts.json.gz increase_PP-6-4_naked"
   ]
  },
  {
   "cell_type": "markdown",
   "metadata": {},
   "source": [
    "### NMP damage <a id=\"nmp\"></a>\n",
    "\n",
    "Create a folder named **nmp** and place inside the data from https://www.ncbi.nlm.nih.gov/geo/download/?acc=GSE98031&format=file\n",
    "\n",
    "Please, extract the tar file and uncompress all gzipped files before running the notebook.\n"
   ]
  },
  {
   "cell_type": "markdown",
   "metadata": {},
   "source": [
    "Convert the wig files into bed files."
   ]
  },
  {
   "cell_type": "code",
   "execution_count": null,
   "metadata": {
    "collapsed": true
   },
   "outputs": [],
   "source": [
    "%%bash --out output2 --err error2\n",
    "# TODO remove\n",
    "\n",
    "source activate env_nucperiod\n",
    "\n",
    "cd nmp\n",
    "\n",
    "for file in *.wig\n",
    "do\n",
    "    out_file=${file/.wig/.bed.gz}\n",
    "    wig2bed < $file | gzip > ${out_file}\n",
    "done"
   ]
  },
  {
   "cell_type": "markdown",
   "metadata": {},
   "source": [
    "Combine the corresponding files."
   ]
  },
  {
   "cell_type": "code",
   "execution_count": null,
   "metadata": {
    "collapsed": true
   },
   "outputs": [],
   "source": [
    "import glob\n",
    "import gzip\n",
    "import os\n",
    "\n",
    "ws = 'nmp'\n",
    "to_merge = set([v.split('_bk')[0] for v in os.listdir(ws) if v.endswith('.bed.gz')])\n",
    "\n",
    "for merge in to_merge:\n",
    "    out_f = os.path.join(ws, '{}.tsv.gz'.format(merge))\n",
    "    with gzip.open(out_f, 'wt') as outfile:\n",
    "        for file in glob.iglob(os.path.join(ws, merge + '*.bed.gz')):\n",
    "            with gzip.open(file, 'rt') as infile:\n",
    "                for line in infile:\n",
    "                    line_spl = line.rstrip().split('\\t')\n",
    "                    if float(line_spl[4])>0:\n",
    "                        out = '{}\\t{}\\t-\\t-\\t-\\n'.format(line_spl[0], line_spl[2])\n",
    "                        for i in range(int(float(line_spl[4]))):\n",
    "                            outfile.write(out)"
   ]
  },
  {
   "cell_type": "markdown",
   "metadata": {
    "collapsed": true
   },
   "source": [
    "Compute the relative increase of the mutation rate (for only the ones to be plotted):\n",
    "\n",
    "- ``increase_newmag`` contains the zoomin analysis of *GSM2585804_newmag1_0hr_A2_1bp_Greads*\n",
    "- ``increase_0h`` contains the zoomin analysis of *GSM2585801_0hr_mag1_A5_1bp_Greads*\n",
    "- ``increase_2h`` contains the zoomin analysis of *GSM2585802_2hr_wt_A4_1bp_Greads*"
   ]
  },
  {
   "cell_type": "code",
   "execution_count": null,
   "metadata": {
    "collapsed": true
   },
   "outputs": [],
   "source": [
    "%%bash  --out output3 --err error3\n",
    "# TODO remove\n",
    "\n",
    "source activate env_nucperiod\n",
    "\n",
    "increase_scripts=${PWD}/../increase/scripts\n",
    "increase=${PWD}/../increase/cerevisiae\n",
    "mapping=${PWD}/../nucleosomes/cerevisiae\n",
    "\n",
    "cd nmp\n",
    "\n",
    "# GSM2585804_newmag1_0hr_A2_1bp_Greads\n",
    "bash ${increase_scripts}/increase.sh ${PWD}/GSM2585804_newmag1_0hr_A2_1bp_Greads.tsv.gz zoomin saccer3 5 ${mapping}/dyads.bed.gz \\\n",
    "        ${increase}/saccer3_5mer_counts.json.gz increase_newmag\n",
    "        \n",
    "# GSM2585801_0hr_mag1_A5_1bp_Greads\n",
    "bash ${increase_scripts}/increase.sh ${PWD}/GSM2585801_0hr_mag1_A5_1bp_Greads.tsv.gz zoomin saccer3 5 ${mapping}/dyads.bed.gz \\\n",
    "        ${increase}/saccer3_5mer_counts.json.gz increase_0h\n",
    "        \n",
    "# GSM2585802_2hr_wt_A4_1bp_Greads\n",
    "bash ${increase_scripts}/increase.sh ${PWD}/GSM2585802_2hr_wt_A4_1bp_Greads.tsv.gz zoomin saccer3 5 ${mapping}/dyads.bed.gz \\\n",
    "        ${increase}/saccer3_5mer_counts.json.gz increase_2h"
   ]
  },
  {
   "cell_type": "code",
   "execution_count": null,
   "metadata": {
    "collapsed": true
   },
   "outputs": [],
   "source": []
  }
 ],
 "metadata": {
  "kernelspec": {
   "display_name": "Python [conda env:env_nucperiod]",
   "language": "python",
   "name": "conda-env-env_nucperiod-py"
  },
  "language_info": {
   "codemirror_mode": {
    "name": "ipython",
    "version": 3
   },
   "file_extension": ".py",
   "mimetype": "text/x-python",
   "name": "python",
   "nbconvert_exporter": "python",
   "pygments_lexer": "ipython3",
   "version": "3.5.6"
  },
  "toc": {
   "nav_menu": {},
   "number_sections": true,
   "sideBar": true,
   "skip_h1_title": false,
   "title_cell": "Table of Contents",
   "title_sidebar": "Contents",
   "toc_cell": false,
   "toc_position": {},
   "toc_section_display": true,
   "toc_window_display": false
  }
 },
 "nbformat": 4,
 "nbformat_minor": 2
}
