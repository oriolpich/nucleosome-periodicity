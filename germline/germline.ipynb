{
 "cells": [
  {
   "cell_type": "markdown",
   "metadata": {},
   "source": [
    "# Germline variants\n",
    "\n",
    "Germline rare variants have been analysed for two species:\n",
    "\n",
    "- [H. sapiens](#human)\n",
    "- [A. thaliana](#thali)\n",
    "\n",
    "\n",
    "To be able to run this notebook it is required to run previously the ones in the following folders: nucleosomes, rotational and increase. In addition, some external data needs to be downloaded. In each section you can find further details."
   ]
  },
  {
   "cell_type": "markdown",
   "metadata": {},
   "source": [
    "## H. sapiens <a id=\"human\"></a>\n",
    "\n",
    "Create a folder named **sapiens** and download inside the data from the 1000 genomes phase 3 project: ftp://ftp.1000genomes.ebi.ac.uk/vol1/ftp/release/20130502/"
   ]
  },
  {
   "cell_type": "markdown",
   "metadata": {},
   "source": [
    "Classify the data into 3 different categories according to the allele frequency:\n",
    "- very low: allele freq. $< 0.01$\n",
    "- low: $0.01 \\leq$ allele freq. $< 0.05$\n",
    "- high: $0.05 \\leq$ allele freq. $< 0.5$"
   ]
  },
  {
   "cell_type": "code",
   "execution_count": null,
   "metadata": {
    "collapsed": true
   },
   "outputs": [],
   "source": [
    "import glob\n",
    "import gzip\n",
    "from os import path\n",
    "\n",
    "ws = 'sapiens'\n",
    "\n",
    "files = [f for f in glob.iglob(path.join(ws, 'ALL.chr*.phase3_shapeit2_mvncall_integrated_v5a.20130502.genotypes.vcf.gz'))]\n",
    "files.append(path.join(ws, 'ALL.chrX.phase3_shapeit2_mvncall_integrated_v1b.20130502.genotypes.vcf.gz'))\n",
    "files.append(path.join(ws, 'ALL.chrY.phase3_integrated_v2a.20130502.genotypes.vcf.gz'))\n",
    "\n",
    "output_file_low = path.join(ws, 'polymorphisms_very_low.tsv.gz')\n",
    "output_file_medium = path.join(ws, 'polymorphisms_low.tsv.gz')\n",
    "output_file_high = path.join(ws, 'polymorphisms_high.tsv.gz')\n",
    "\n",
    "with gzip.open(output_file_low, 'wt') as outfile_low, \\\n",
    "        gzip.open(output_file_medium, 'wt') as outfile_medium, gzip.open(output_file_high, 'wt') as outfile_high:\n",
    "    for file in files:\n",
    "        with gzip.open(file, 'rt') as infile:\n",
    "            for line in infile:\n",
    "                # skip the header\n",
    "                if not line.startswith('#'):\n",
    "                    # select only PASS variants\n",
    "                    if 'PASS' in line:\n",
    "                        line_spl = line.rstrip().split('\\t')\n",
    "                        chrom = line_spl[0]\n",
    "                        pos = line_spl[1]\n",
    "                        ref = line_spl[3]\n",
    "                        alts = line_spl[4]\n",
    "                        info = line_spl[7]\n",
    "\n",
    "                        # get the dictionary with the info\n",
    "                        dic_info = {x.split('=')[0]: x.split('=')[1] for x in info.split(';') if \"=\" in x}\n",
    "                        list_AF = dic_info['AF'].split(',')\n",
    "\n",
    "                        # check if the reference is one base length\n",
    "                        if len(ref) == 1:\n",
    "                            # with this we check whether there are different alts for the base\n",
    "                            for ix, alt in enumerate(alts.split(',')):\n",
    "                                # we only get SNPs\n",
    "                                if len(alt) == 1:\n",
    "                                    \n",
    "                                    maf = float(list_AF[ix])\n",
    "                                    out = 'chr{}\\t{}\\t{}\\t{}\\t-\\n'.format(chrom, pos, ref, alt)\n",
    "                                    if maf < 0.01:\n",
    "                                        outfile_low.write(out)\n",
    "                                    elif maf < 0.05:\n",
    "                                        outfile_medium.write(out)\n",
    "                                    elif maf < 0.5:\n",
    "                                        outfile_high.write(out)"
   ]
  },
  {
   "cell_type": "markdown",
   "metadata": {},
   "source": [
    "Compute the relative increase in mutation rate for very low polymorphisms:\n",
    "- ``increase``: analysis using all nucleosomes\n",
    "- ``increase_rot_high``: analysis using high rotational nucleosomes\n",
    "- ``increase_rot_low``: analysis using low rotational nucleosomes"
   ]
  },
  {
   "cell_type": "code",
   "execution_count": null,
   "metadata": {
    "collapsed": true
   },
   "outputs": [],
   "source": [
    "%%bash \n",
    "\n",
    "source activate env_nucperiod\n",
    "\n",
    "increase_scripts=${PWD}/../increase/scripts\n",
    "increase=${PWD}/../increase/sapiens\n",
    "mapping=${PWD}/../nucleosomes/sapiens\n",
    "rotational=${PWD}/../rotational/sapiens\n",
    "\n",
    "cd sapiens\n",
    "\n",
    "bash ${increase_scripts}/increase.sh polymorphisms_very_low.tsv.gz zoomin hg19 5 ${mapping}/dyads.bed.gz \\\n",
    "    ${increase}/hg19_filtered_5mer_counts.json.gz increase\n",
    "    \n",
    "bash ${increase_scripts}/increase.sh polymorphisms_very_low.tsv.gz zoomin hg19 5 ${rotational}/high_rotational_dyads.bed.gz \\\n",
    "    ${increase}/hg19_filtered_5mer_counts.json.gz increase_rot_high\n",
    "\n",
    "bash ${increase_scripts}/increase.sh polymorphisms_very_low.tsv.gz zoomin hg19 5 ${rotational}/low_rotational_dyads.bed.gz \\\n",
    "    ${increase}/hg19_filtered_5mer_counts.json.gz increase_rot_low"
   ]
  },
  {
   "cell_type": "markdown",
   "metadata": {
    "collapsed": true
   },
   "source": [
    "Compute the relative increase in mutation rate for the low and high polymorphisms"
   ]
  },
  {
   "cell_type": "code",
   "execution_count": null,
   "metadata": {
    "collapsed": true
   },
   "outputs": [],
   "source": [
    "%%bash \n",
    "\n",
    "source activate env_nucperiod\n",
    "\n",
    "increase_scripts=${PWD}/../increase/scripts\n",
    "increase=${PWD}/../increase/sapiens\n",
    "mapping=${PWD}/../nucleosomes/sapiens\n",
    "rotational=${PWD}/../rotational/sapiens\n",
    "\n",
    "cd sapiens\n",
    "\n",
    "bash ${increase_scripts}/increase.sh polymorphisms_low.tsv.gz zoomin hg19 5 ${mapping}/dyads.bed.gz \\\n",
    "    ${increase}/hg19_filtered_5mer_counts.json.gz increase_low\n",
    "    \n",
    "bash ${increase_scripts}/increase.sh polymorphisms_high.tsv.gz zoomin hg19 5 ${mapping}/dyads.bed.gz \\\n",
    "    ${increase}/hg19_filtered_5mer_counts.json.gz increase_high"
   ]
  },
  {
   "cell_type": "markdown",
   "metadata": {},
   "source": [
    "## Thaliana <a id=\"thali\"></a>\n",
    "\n",
    "Create a folder named **thaliana** and downloaded inside the data from the 1001 Genomes Project: http://1001genomes.org/data/GMI-MPI/releases/v3.1/1001genomes_snp-short-indel_only_ACGTN.vcf.gz"
   ]
  },
  {
   "cell_type": "markdown",
   "metadata": {},
   "source": [
    "Filter the data to keep only SNVs with PASS filter"
   ]
  },
  {
   "cell_type": "code",
   "execution_count": null,
   "metadata": {
    "collapsed": true
   },
   "outputs": [],
   "source": [
    "%%bash \n",
    "\n",
    "source activate env_nucperiod\n",
    "cd thaliana\n",
    "\n",
    "# it will generate an out.frq file in the same folder\n",
    "vcftools --gzvcf 1001genomes_snp-short-indel_only_ACGTN.vcf.gz --freq --remove-filtered-geno-all --remove-indels"
   ]
  },
  {
   "cell_type": "markdown",
   "metadata": {},
   "source": [
    "Filter by allele frequency < 0.01 and format the output."
   ]
  },
  {
   "cell_type": "code",
   "execution_count": null,
   "metadata": {
    "collapsed": true
   },
   "outputs": [],
   "source": [
    "import gzip\n",
    "import os\n",
    "\n",
    "ws=\"thaliana\"\n",
    "in_file = os.path.join(ws, 'out.frq')\n",
    "out_file = os.path.join(ws, 'polymorphisms.tsv.gz')\n",
    "\n",
    "with open(in_file) as infile, gzip.open(out_file, 'wt') as outfile:\n",
    "    next(infile)\n",
    "    for line in infile:\n",
    "\n",
    "        line_spl = line.rstrip().split('\\t')\n",
    "        n_alleles = int(line_spl[2])\n",
    "        ref = line_spl[4].split(':')[0]\n",
    "\n",
    "        # af stands for allele frequency\n",
    "        ref_af = float(line_spl[4].split(':')[1])\n",
    "\n",
    "        for al in line_spl[5:]:\n",
    "\n",
    "            alt = al.split(':')[0]\n",
    "            alt_af = float(al.split(':')[1])\n",
    "\n",
    "            # if the reference allele is higher than the alt and its a low freq polymorphism\n",
    "            if (ref_af > alt_af) & (alt_af < 0.01):\n",
    "                out = 'chr{}\\t{}\\t-\\t-\\t-\\n'.format(line_spl[0], line_spl[1])\n",
    "                outfile.write(out)"
   ]
  },
  {
   "cell_type": "markdown",
   "metadata": {},
   "source": [
    "Compute the relative increase in mutation rate"
   ]
  },
  {
   "cell_type": "code",
   "execution_count": null,
   "metadata": {
    "collapsed": true
   },
   "outputs": [],
   "source": [
    "%%bash \n",
    "\n",
    "source activate env_nucperiod\n",
    "\n",
    "increase_scripts=${PWD}/../increase/scripts\n",
    "increase=${PWD}/../increase/thaliana\n",
    "mapping=${PWD}/../nucleosomes/thaliana\n",
    "\n",
    "cd thaliana\n",
    "\n",
    "bash ${increase_scripts}/increase.sh polymorphisms.tsv.gz zoomin tair10 5 ${mapping}/dyads.bed.gz \\\n",
    "    ${increase}/tair10_filtered_5mer_counts.json.gz increase"
   ]
  }
 ],
 "metadata": {
  "kernelspec": {
   "display_name": "Python [default]",
   "language": "python",
   "name": "python3"
  },
  "language_info": {
   "codemirror_mode": {
    "name": "ipython",
    "version": 3
   },
   "file_extension": ".py",
   "mimetype": "text/x-python",
   "name": "python",
   "nbconvert_exporter": "python",
   "pygments_lexer": "ipython3",
   "version": "3.6.6"
  },
  "toc": {
   "nav_menu": {},
   "number_sections": true,
   "sideBar": true,
   "skip_h1_title": false,
   "title_cell": "Table of Contents",
   "title_sidebar": "Contents",
   "toc_cell": false,
   "toc_position": {},
   "toc_section_display": true,
   "toc_window_display": false
  }
 },
 "nbformat": 4,
 "nbformat_minor": 2
}
