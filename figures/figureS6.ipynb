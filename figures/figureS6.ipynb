{
 "cells": [
  {
   "cell_type": "markdown",
   "metadata": {
    "collapsed": true
   },
   "source": [
    "# Supplementary figure 6\n",
    "\n",
    "To be able to run this notebook it is required to run previously the ones in the following folders: periodicity."
   ]
  },
  {
   "cell_type": "code",
   "execution_count": null,
   "metadata": {
    "collapsed": true
   },
   "outputs": [],
   "source": [
    "import os, sys  \n",
    "os.environ[\"PATH\"] = os.path.dirname(sys.executable) + os.pathsep + os.environ[\"PATH\"]"
   ]
  },
  {
   "cell_type": "code",
   "execution_count": null,
   "metadata": {
    "collapsed": true
   },
   "outputs": [],
   "source": [
    "import os\n",
    "\n",
    "import matplotlib.pyplot as plt\n",
    "\n",
    "from scripts.periodicity import build_families\n",
    "families = build_families('../periodicity')\n",
    "\n",
    "os.makedirs('figs', exist_ok=True)"
   ]
  },
  {
   "cell_type": "code",
   "execution_count": null,
   "metadata": {
    "collapsed": true
   },
   "outputs": [],
   "source": [
    "from scripts.periodicity import period_values, scatter\n",
    "\n",
    "for period in range(6, 20):\n",
    "    dh = period_values(families, period)\n",
    "    dh.set_index('species', inplace=True)\n",
    "    scatter(dh, 'logodds_power_enrichment', 'proportion_ref_period', period=period,\n",
    "                 ymin=-0.05, ymax=1.05, xmin=-4, xmax=4)\n",
    "    plt.savefig('figs/fS6_{}.svg'.format(period), dpi=300, bbox_inches='tight', format='svg')\n",
    "    plt.show()"
   ]
  },
  {
   "cell_type": "code",
   "execution_count": null,
   "metadata": {
    "collapsed": true
   },
   "outputs": [],
   "source": []
  }
 ],
 "metadata": {
  "kernelspec": {
   "display_name": "Python [conda env:env_nucperiod]",
   "language": "python",
   "name": "conda-env-env_nucperiod-py"
  },
  "language_info": {
   "codemirror_mode": {
    "name": "ipython",
    "version": 3
   },
   "file_extension": ".py",
   "mimetype": "text/x-python",
   "name": "python",
   "nbconvert_exporter": "python",
   "pygments_lexer": "ipython3",
   "version": "3.5.6"
  },
  "toc": {
   "nav_menu": {},
   "number_sections": true,
   "sideBar": true,
   "skip_h1_title": false,
   "title_cell": "Table of Contents",
   "title_sidebar": "Contents",
   "toc_cell": false,
   "toc_position": {},
   "toc_section_display": true,
   "toc_window_display": false
  }
 },
 "nbformat": 4,
 "nbformat_minor": 2
}
