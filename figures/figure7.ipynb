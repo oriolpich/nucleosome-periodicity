{
 "cells": [
  {
   "cell_type": "markdown",
   "metadata": {
    "collapsed": true
   },
   "source": [
    "# Figure 7"
   ]
  },
  {
   "cell_type": "code",
   "execution_count": null,
   "metadata": {
    "collapsed": true
   },
   "outputs": [],
   "source": [
    "import os, sys  \n",
    "os.environ[\"PATH\"] = os.path.dirname(sys.executable) + os.pathsep + os.environ[\"PATH\"]"
   ]
  },
  {
   "cell_type": "code",
   "execution_count": null,
   "metadata": {
    "collapsed": true
   },
   "outputs": [],
   "source": [
    "import os\n",
    "import matplotlib.pyplot as plt\n",
    "\n",
    "from scripts.periodicity import build_families\n",
    "families = build_families('../periodicity/')\n",
    "\n",
    "os.makedirs('figs', exist_ok=True)"
   ]
  },
  {
   "cell_type": "markdown",
   "metadata": {},
   "source": [
    "## a) \n",
    "\n",
    "WW periodicity"
   ]
  },
  {
   "cell_type": "code",
   "execution_count": null,
   "metadata": {
    "collapsed": true
   },
   "outputs": [],
   "source": [
    "from scripts.ww_period import plot\n",
    "\n",
    "groups = {'H. sapiens': ('hg19', '../rotational/sapiens/high_rotational_dyads.bed.gz'),\n",
    "         'A. thaliana': ('tair10', '../nucleosomes/thaliana/dyads.bed.gz'),\n",
    "         'S. cerevisiae': ('saccer3', '../nucleosomes/cerevisiae/dyads.bed.gz'),\n",
    "         'D. melanogaster': ('dm3', '../nucleosomes/melanogaster/dyads.bed.gz'),\n",
    "         'M. musculus': ('mm9', '../nucleosomes/musculus/dyads.bed.gz')}\n",
    "\n",
    "plot(groups)\n",
    "plt.savefig('figs/f7a.svg')\n",
    "plt.show()"
   ]
  },
  {
   "cell_type": "markdown",
   "metadata": {},
   "source": [
    "## b)\n",
    "\n",
    "S. cerevisiae analysis."
   ]
  },
  {
   "cell_type": "markdown",
   "metadata": {},
   "source": [
    "Autocorrelation figure"
   ]
  },
  {
   "cell_type": "code",
   "execution_count": null,
   "metadata": {
    "collapsed": true
   },
   "outputs": [],
   "source": [
    "import glob\n",
    "from scripts.periodicity import autocorrelation\n",
    "\n",
    "folder = families['fungi']['Saccharomyces cerevisiae']\n",
    "chr_ = 'XV'\n",
    "number = '0'\n",
    "\n",
    "motif_file = os.path.join(folder, 'motif_counts', chr_, '{}.json'.format(number))\n",
    "random_files = glob.glob(os.path.join(folder, 'random_motif_counts', chr_, number, '*.json'))\n",
    "\n",
    "autocorrelation(motif_file, random_files)\n",
    "plt.savefig('figs/f7b_2.svg', dpi=300, bbox_inches='tight', format='svg', transparent=True)\n",
    "plt.show()"
   ]
  },
  {
   "cell_type": "markdown",
   "metadata": {},
   "source": [
    "Spectrum figure"
   ]
  },
  {
   "cell_type": "code",
   "execution_count": null,
   "metadata": {
    "collapsed": true
   },
   "outputs": [],
   "source": [
    "import glob\n",
    "from scripts.periodicity import spectrum\n",
    "\n",
    "folder = families['fungi']['Saccharomyces cerevisiae']\n",
    "chr_ = 'XV'\n",
    "number = '0'\n",
    "\n",
    "motif_file = os.path.join(folder, 'motif_counts', chr_, '{}.json'.format(number))\n",
    "random_files = glob.glob(os.path.join(folder, 'random_motif_counts', chr_, number, '*.json'))\n",
    "\n",
    "spectrum(motif_file, random_files)\n",
    "plt.savefig('figs/f7b_3.svg', dpi=300, bbox_inches='tight', format='svg', transparent=True)\n",
    "plt.show()"
   ]
  },
  {
   "cell_type": "markdown",
   "metadata": {},
   "source": []
  },
  {
   "cell_type": "code",
   "execution_count": null,
   "metadata": {
    "collapsed": true
   },
   "outputs": [],
   "source": [
    "from scripts.periodicity import plot_single\n",
    "\n",
    "folder = families['fungi']['Saccharomyces cerevisiae']\n",
    "table_file = os.path.join(folder, 'summary.tsv')\n",
    "\n",
    "plot_single(table_file, 'Saccharomyces cerevisiae')\n",
    "plt.savefig('figs/f7b_1.svg', dpi=300, bbox_inches='tight', format='svg')\n",
    "plt.show()"
   ]
  },
  {
   "cell_type": "markdown",
   "metadata": {},
   "source": [
    "## c)\n",
    "\n"
   ]
  },
  {
   "cell_type": "code",
   "execution_count": null,
   "metadata": {
    "collapsed": true
   },
   "outputs": [],
   "source": [
    "from scripts.periodicity import period_values, scatter\n",
    "\n",
    "df = period_values(families, 10)\n",
    "df.set_index('species', inplace=True)\n",
    "\n",
    "scatter(df, 'logodds_power_enrichment', 'proportion_ref_period', period=10,\n",
    "             selected_organisms=['Saccharomyces cerevisiae', 'Tribolium castaneum', 'Arabidopsis thaliana',\n",
    "                                 'Danio rerio', 'Thalassiosira pseudonana', 'Brassica rapa',\n",
    "                                 'Takifugu rubripes', 'Caenorhabditis elegans', 'Apis mellifera',\n",
    "                                 'Mus musculus', 'Gallus gallus', 'Gorilla gorilla', 'Homo sapiens',\n",
    "                                'Drosophila melanogaster'], \n",
    "             ymin=-0.05, ymax=1.05, xmin=-4, xmax=4)\n",
    "plt.savefig('figs/f7c.svg', dpi=300, bbox_inches='tight', format='svg')\n",
    "plt.show()"
   ]
  },
  {
   "cell_type": "markdown",
   "metadata": {
    "collapsed": true
   },
   "source": [
    "## e)\n",
    "\n",
    "Simulation"
   ]
  },
  {
   "cell_type": "code",
   "execution_count": null,
   "metadata": {
    "collapsed": true
   },
   "outputs": [],
   "source": [
    "import glob\n",
    "from scripts.evolver import iterations_all\n",
    "\n",
    "e1 = glob.glob('../simulation/evolutions/evolver1_*.pckl.gz')\n",
    "e2 = glob.glob('../simulation/evolutions/evolver2_*.pckl.gz')\n",
    "e3 = glob.glob('../simulation/evolutions/evolver3_*.pckl.gz')\n",
    "\n",
    "iterations_all(e1, e2, e3)\n",
    "plt.savefig('figs/f7e_1.svg')\n",
    "plt.show()"
   ]
  },
  {
   "cell_type": "code",
   "execution_count": null,
   "metadata": {
    "collapsed": true
   },
   "outputs": [],
   "source": [
    "import gzip\n",
    "import pickle\n",
    "from scripts.evolver import sequence\n",
    "\n",
    "t1 = pickle.load(gzip.open('../simulation/evolutions/evolver1_45.pckl.gz'))\n",
    "\n",
    "sequence(t1)\n",
    "plt.savefig('figs/f7e_2.svg')\n",
    "plt.show()"
   ]
  }
 ],
 "metadata": {
  "kernelspec": {
   "display_name": "Python [conda env:env_nucperiod]",
   "language": "python",
   "name": "conda-env-env_nucperiod-py"
  },
  "language_info": {
   "codemirror_mode": {
    "name": "ipython",
    "version": 3
   },
   "file_extension": ".py",
   "mimetype": "text/x-python",
   "name": "python",
   "nbconvert_exporter": "python",
   "pygments_lexer": "ipython3",
   "version": "3.5.6"
  },
  "toc": {
   "nav_menu": {},
   "number_sections": true,
   "sideBar": true,
   "skip_h1_title": false,
   "title_cell": "Table of Contents",
   "title_sidebar": "Contents",
   "toc_cell": false,
   "toc_position": {},
   "toc_section_display": true,
   "toc_window_display": false
  }
 },
 "nbformat": 4,
 "nbformat_minor": 2
}
