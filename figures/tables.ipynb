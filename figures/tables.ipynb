{
 "cells": [
  {
   "cell_type": "markdown",
   "metadata": {},
   "source": [
    "# Supplementary tables"
   ]
  },
  {
   "cell_type": "code",
   "execution_count": null,
   "metadata": {
    "collapsed": true
   },
   "outputs": [],
   "source": [
    "import os\n",
    "import json\n",
    "\n",
    "os.makedirs('tables', exist_ok=True)\n",
    "with open('list_ttypes.json', 'r') as fp:\n",
    "    tumors = json.load(fp)"
   ]
  },
  {
   "cell_type": "markdown",
   "metadata": {},
   "source": [
    "## Table 1"
   ]
  },
  {
   "cell_type": "code",
   "execution_count": null,
   "metadata": {
    "collapsed": true
   },
   "outputs": [],
   "source": [
    "import pandas as pd\n",
    "from scripts.cohorts import TTYPES\n",
    "\n",
    "tcga_samplesheet='../mutations/tcga/samples/sample_tracksheet.tsv.gz'\n",
    "icgc_samplesheet='../mutations/icgc/samples/sample_tracksheet.tsv.gz'\n",
    "\n",
    "df_tcga = pd.read_csv(tcga_samplesheet, sep ='\\t', names = ['sample', 'file', 'nmuts'])\n",
    "df_tcga['project'] = '505'\n",
    "df_icgc = pd.read_csv(icgc_samplesheet, sep ='\\t',names = ['sample', 'file', 'nmuts'])\n",
    "df_icgc['project'] = df_icgc['file'].apply(lambda x : x.split('-')[1].split('.')[0])\n",
    "\n",
    "df = pd.concat([df_tcga, df_icgc])\n",
    "df['ttype'] = df['file'].apply(lambda x : x.split('.')[0])\n",
    "df = df[df['ttype'].isin(tumors)]\n",
    "\n",
    "with open('tables/t1.tsv', 'wt') as outfile:\n",
    "    header = 'Cohort\\tProject\\tTumor Name\\tSamples\\tMutations\\n'\n",
    "    outfile.write(header)\n",
    "    for ttype, data in df.groupby(by='ttype'):\n",
    "        len_cohort = len(data)\n",
    "        total_muts = data['nmuts'].sum()\n",
    "        project = data['project'].iloc[0]\n",
    "        out = '{}\\t{}\\t{}\\t{}\\t{}\\n'.format(ttype, project, TTYPES[ttype], len_cohort, total_muts)\n",
    "\n",
    "        outfile.write(out)"
   ]
  },
  {
   "cell_type": "markdown",
   "metadata": {},
   "source": [
    "## Table 2"
   ]
  },
  {
   "cell_type": "markdown",
   "metadata": {},
   "source": [
    "### Cohorts zoomout"
   ]
  },
  {
   "cell_type": "code",
   "execution_count": null,
   "metadata": {
    "collapsed": true
   },
   "outputs": [],
   "source": [
    "from scripts.cohorts import generate_table\n",
    "\n",
    "tcga = {}\n",
    "for file in os.listdir('../mutations/tcga/cohorts'):\n",
    "    name = file.replace('.tsv.gz', '')\n",
    "    data = '../mutations/tcga/cohorts/increase_zoomout/{}/obsexp.tsv'.format(name)\n",
    "    if os.path.exists(data):\n",
    "        tcga[name] = data\n",
    "icgc = {}\n",
    "for file in os.listdir('../mutations/icgc/cohorts'):\n",
    "    name = file.replace('.tsv.gz', '')\n",
    "    data = '../mutations/icgc/cohorts/increase_zoomout/{}/obsexp.tsv'.format(name)\n",
    "    if os.path.exists(data):\n",
    "        icgc[name] = data\n",
    "cohorts = {**tcga, **icgc}\n",
    "\n",
    "df = generate_table(cohorts, tumors)\n",
    "df.to_csv('tables/t2_cohorts_zoomout.tsv', sep='\\t', index=False, header=True)"
   ]
  },
  {
   "cell_type": "markdown",
   "metadata": {},
   "source": [
    "### Cohorts zoomin"
   ]
  },
  {
   "cell_type": "code",
   "execution_count": null,
   "metadata": {
    "collapsed": true
   },
   "outputs": [],
   "source": [
    "from scripts.cohorts import generate_table\n",
    "\n",
    "tcga = {}\n",
    "for file in os.listdir('../mutations/tcga/cohorts'):\n",
    "    name = file.replace('.tsv.gz', '')\n",
    "    data = '../mutations/tcga/cohorts/increase_zoomin/{}/obsexp.tsv'.format(name)\n",
    "    if os.path.exists(data):\n",
    "        tcga[name] = data\n",
    "icgc = {}\n",
    "for file in os.listdir('../mutations/icgc/cohorts'):\n",
    "    name = file.replace('.tsv.gz', '')\n",
    "    data = '../mutations/icgc/cohorts/increase_zoomin/{}/obsexp.tsv'.format(name)\n",
    "    if os.path.exists(data):\n",
    "        icgc[name] = data\n",
    "cohorts = {**tcga, **icgc}\n",
    "\n",
    "df = generate_table(cohorts, tumors)\n",
    "df.to_csv('tables/t2_cohorts_zoomin.tsv', sep='\\t', index=False, header=True)"
   ]
  },
  {
   "cell_type": "markdown",
   "metadata": {},
   "source": [
    "### 505 signatures"
   ]
  },
  {
   "cell_type": "code",
   "execution_count": null,
   "metadata": {
    "collapsed": true
   },
   "outputs": [],
   "source": [
    "from scripts.signatures import generate_table\n",
    "\n",
    "tcga = {}\n",
    "folder = '../signatures/tcga_joined/increase'\n",
    "for signature in os.listdir(folder):\n",
    "    data = os.path.join(folder, signature, 'obsexp.tsv')\n",
    "    if os.path.exists(data):\n",
    "        tcga[signature] = data\n",
    "        \n",
    "df = generate_table(tcga)\n",
    "df['Project'] = '505'\n",
    "df.to_csv('tables/t2_signatures505.tsv', sep='\\t', index=False, header=True)"
   ]
  },
  {
   "cell_type": "markdown",
   "metadata": {},
   "source": [
    "### PanCanAtlas Signatures"
   ]
  },
  {
   "cell_type": "code",
   "execution_count": null,
   "metadata": {
    "collapsed": true
   },
   "outputs": [],
   "source": [
    "from scripts.signatures import generate_table\n",
    "\n",
    "tcga = {}\n",
    "folder = '../signatures/pancanatlas_joined/increase'\n",
    "for signature in os.listdir(folder):\n",
    "    data = os.path.join(folder, signature, 'obsexp.tsv')\n",
    "    if os.path.exists(data):\n",
    "        tcga[signature] = data\n",
    "        \n",
    "df = generate_table(tcga)\n",
    "df['Project'] = 'PANCANATLAS'\n",
    "df.to_csv('tables/t2_signaturesPanCanAtlas.tsv', sep='\\t', index=False, header=True)"
   ]
  },
  {
   "cell_type": "markdown",
   "metadata": {},
   "source": [
    "### Samples"
   ]
  },
  {
   "cell_type": "code",
   "execution_count": null,
   "metadata": {
    "collapsed": true
   },
   "outputs": [],
   "source": [
    "import pandas as pd\n",
    "from scripts.cohorts import TTYPES\n",
    "from scripts.samples import generate_table\n",
    "\n",
    "samples = {}\n",
    "\n",
    "folders = ['../mutations/tcga/samples/increase', '../mutations/icgc/samples/increase']\n",
    "for folder in folders:\n",
    "    for ctype in os.listdir(folder):\n",
    "        if ctype in tumors:\n",
    "            ctype_folder = os.path.join(folder, ctype)\n",
    "            for sample in os.listdir(ctype_folder):\n",
    "                file = os.path.join(ctype_folder, sample, 'obsexp.tsv')\n",
    "                if os.path.exists(file):\n",
    "                    samples[sample] = file\n",
    "                    \n",
    "muts_info = []                   \n",
    "for file in ['../mutations/tcga/samples/sample_tracksheet.tsv.gz', '../mutations/icgc/samples/sample_tracksheet.tsv.gz']: \n",
    "    muts_info.append(pd.read_csv(file, sep='\\t', names=['name', 'file', 'muts']))\n",
    "tracksheets = pd.concat(muts_info, ignore_index=True)\n",
    "tracksheets['tumor_name'] = tracksheets['file'].apply(lambda x: x.split('.')[0])\n",
    "\n",
    "df = generate_table(samples, tracksheets, TTYPES)\n",
    "df.to_csv('tables/t2_samples.tsv', sep='\\t', index=False, header=True)"
   ]
  },
  {
   "cell_type": "code",
   "execution_count": null,
   "metadata": {
    "collapsed": true
   },
   "outputs": [],
   "source": []
  }
 ],
 "metadata": {
  "kernelspec": {
   "display_name": "Python [conda env:env_nucperiod]",
   "language": "python",
   "name": "conda-env-env_nucperiod-py"
  },
  "language_info": {
   "codemirror_mode": {
    "name": "ipython",
    "version": 3
   },
   "file_extension": ".py",
   "mimetype": "text/x-python",
   "name": "python",
   "nbconvert_exporter": "python",
   "pygments_lexer": "ipython3",
   "version": "3.5.6"
  },
  "toc": {
   "nav_menu": {},
   "number_sections": true,
   "sideBar": true,
   "skip_h1_title": false,
   "title_cell": "Table of Contents",
   "title_sidebar": "Contents",
   "toc_cell": false,
   "toc_position": {},
   "toc_section_display": true,
   "toc_window_display": false
  }
 },
 "nbformat": 4,
 "nbformat_minor": 2
}
