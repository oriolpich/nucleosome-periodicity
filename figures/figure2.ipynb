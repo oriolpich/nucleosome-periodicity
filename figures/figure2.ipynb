{
 "cells": [
  {
   "cell_type": "markdown",
   "metadata": {
    "collapsed": true
   },
   "source": [
    "# Figure 2\n",
    "\n",
    "To be able to run this notebook it is required to run previously the ones in the following folders: mutations."
   ]
  },
  {
   "cell_type": "code",
   "execution_count": null,
   "metadata": {
    "collapsed": true
   },
   "outputs": [],
   "source": [
    "import json\n",
    "import os\n",
    "\n",
    "import matplotlib.pyplot as plt\n",
    "from IPython import display\n",
    "\n",
    "os.makedirs('figs', exist_ok=True)"
   ]
  },
  {
   "cell_type": "code",
   "execution_count": null,
   "metadata": {
    "collapsed": true
   },
   "outputs": [],
   "source": [
    "tcga = {}\n",
    "for file in os.listdir('../mutations/tcga/cohorts'):\n",
    "    name = file.replace('.tsv.gz', '')\n",
    "    data = '../mutations/tcga/cohorts/increase_zoomin/{}/obsexp.tsv'.format(name)\n",
    "    if os.path.exists(data):\n",
    "        tcga[name] = data\n",
    "icgc = {}\n",
    "for file in os.listdir('../mutations/icgc/cohorts'):\n",
    "    name = file.replace('.tsv.gz', '')\n",
    "    data = '../mutations/icgc/cohorts/increase_zoomin/{}/obsexp.tsv'.format(name)\n",
    "    if os.path.exists(data):\n",
    "        icgc[name] = data\n",
    "cohorts = {**tcga, **icgc}\n",
    "\n",
    "with open('list_ttypes.json', 'r') as fp:\n",
    "    tumors = json.load(fp)"
   ]
  },
  {
   "cell_type": "markdown",
   "metadata": {},
   "source": [
    "## b)\n"
   ]
  },
  {
   "cell_type": "code",
   "execution_count": null,
   "metadata": {
    "collapsed": true
   },
   "outputs": [],
   "source": [
    "display.SVG(filename='../mutations/icgc/cohorts/increase_zoomin/ESAD-UK/obsexp.svg')"
   ]
  },
  {
   "cell_type": "markdown",
   "metadata": {},
   "source": [
    "## c)"
   ]
  },
  {
   "cell_type": "code",
   "execution_count": null,
   "metadata": {
    "collapsed": true
   },
   "outputs": [],
   "source": [
    "from scripts.cohorts import zoomin\n",
    "\n",
    "zoomin(cohorts, tumors)\n",
    "plt.savefig('figs/f2c.svg')\n",
    "plt.show()"
   ]
  },
  {
   "cell_type": "markdown",
   "metadata": {},
   "source": [
    "## d)"
   ]
  },
  {
   "cell_type": "code",
   "execution_count": null,
   "metadata": {
    "collapsed": true
   },
   "outputs": [],
   "source": [
    "display.SVG(filename='../mutations/icgc/cohorts/increase_zoomin/MELA-AU/obsexp.svg')"
   ]
  },
  {
   "cell_type": "code",
   "execution_count": null,
   "metadata": {
    "collapsed": true
   },
   "outputs": [],
   "source": [
    "display.SVG(filename='../mutations/icgc/cohorts/increase_zoomin/OV-AU/obsexp.svg')"
   ]
  },
  {
   "cell_type": "code",
   "execution_count": null,
   "metadata": {
    "collapsed": true
   },
   "outputs": [],
   "source": [
    "display.SVG(filename='../mutations/tcga/cohorts/increase_zoomin/LUAD/obsexp.svg')"
   ]
  },
  {
   "cell_type": "code",
   "execution_count": null,
   "metadata": {
    "collapsed": true
   },
   "outputs": [],
   "source": [
    "display.SVG(filename='../mutations/icgc/cohorts/increase_zoomin/MALY-DE/obsexp.svg')"
   ]
  },
  {
   "cell_type": "code",
   "execution_count": null,
   "metadata": {
    "collapsed": true
   },
   "outputs": [],
   "source": []
  }
 ],
 "metadata": {
  "kernelspec": {
   "display_name": "Python [conda env:env_nucperiod]",
   "language": "python",
   "name": "conda-env-env_nucperiod-py"
  },
  "language_info": {
   "codemirror_mode": {
    "name": "ipython",
    "version": 3
   },
   "file_extension": ".py",
   "mimetype": "text/x-python",
   "name": "python",
   "nbconvert_exporter": "python",
   "pygments_lexer": "ipython3",
   "version": "3.5.6"
  },
  "toc": {
   "nav_menu": {},
   "number_sections": true,
   "sideBar": true,
   "skip_h1_title": false,
   "title_cell": "Table of Contents",
   "title_sidebar": "Contents",
   "toc_cell": false,
   "toc_position": {},
   "toc_section_display": true,
   "toc_window_display": false
  }
 },
 "nbformat": 4,
 "nbformat_minor": 2
}
