{
 "cells": [
  {
   "cell_type": "markdown",
   "metadata": {
    "collapsed": true
   },
   "source": [
    "# Figure 5\n",
    "\n",
    "To be able to run this notebook it is required to run previously the ones in the following folders: damage, accessibility."
   ]
  },
  {
   "cell_type": "code",
   "execution_count": null,
   "metadata": {
    "collapsed": true
   },
   "outputs": [],
   "source": [
    "import os, sys  \n",
    "os.environ[\"PATH\"] = os.path.dirname(sys.executable) + os.pathsep + os.environ[\"PATH\"]"
   ]
  },
  {
   "cell_type": "code",
   "execution_count": null,
   "metadata": {
    "collapsed": true
   },
   "outputs": [],
   "source": [
    "import os\n",
    "\n",
    "import matplotlib.pyplot as plt\n",
    "from nucperiod.increase import load\n",
    "from IPython import display\n",
    "\n",
    "os.makedirs('figs', exist_ok=True)"
   ]
  },
  {
   "cell_type": "markdown",
   "metadata": {
    "collapsed": true
   },
   "source": [
    "## b)\n",
    "\n",
    "UV damage and repair."
   ]
  },
  {
   "cell_type": "markdown",
   "metadata": {},
   "source": [
    "CPD 0h analysis using high rotational dyads"
   ]
  },
  {
   "cell_type": "code",
   "execution_count": null,
   "metadata": {
    "collapsed": true
   },
   "outputs": [],
   "source": [
    "display.SVG(filename='../damage/uv/increase_CPD_0h_high/obsexp.svg')"
   ]
  },
  {
   "cell_type": "markdown",
   "metadata": {},
   "source": [
    "CPD 0h bar plot using high and low rotational dyads"
   ]
  },
  {
   "cell_type": "code",
   "execution_count": null,
   "metadata": {
    "collapsed": true
   },
   "outputs": [],
   "source": [
    "from scripts.rotational import plot_bars\n",
    "\n",
    "snr_high = load('../damage/uv/increase_CPD_0h_high/obsexp.tsv', 'snr')[0]\n",
    "snr_low = load('../damage/uv/increase_CPD_0h_low/obsexp.tsv', 'snr')[0]\n",
    "\n",
    "plot_bars(snr_high, snr_low)\n",
    "plt.savefig('figs/f5b_bars.svg')\n",
    "plt.show()"
   ]
  },
  {
   "cell_type": "markdown",
   "metadata": {},
   "source": [
    "Repair CPD 0h -> 24 h"
   ]
  },
  {
   "cell_type": "code",
   "execution_count": null,
   "metadata": {
    "collapsed": true
   },
   "outputs": [],
   "source": [
    "from scripts.repair import plot\n",
    "\n",
    "plot('../damage/uv/increase_CPD_0h_high/mutations_dyads.tsv.gz', \n",
    "            '../damage/uv/increase_CPD_24h_high/mutations_dyads.tsv.gz')\n",
    "plt.savefig('figs/f5b_repair.svg')\n",
    "plt.show()"
   ]
  },
  {
   "cell_type": "markdown",
   "metadata": {},
   "source": [
    "Repar CPD 0h -> 24 using high and low rotational dyads"
   ]
  },
  {
   "cell_type": "code",
   "execution_count": null,
   "metadata": {
    "collapsed": true
   },
   "outputs": [],
   "source": [
    "from scripts.rotational import plot_bars\n",
    "from scripts.repair import compute_snr\n",
    "\n",
    "high_0h = '../damage/uv/increase_CPD_0h_high/mutations_dyads.tsv.gz'\n",
    "low_0h = '../damage/uv/increase_CPD_0h_low/mutations_dyads.tsv.gz'\n",
    "\n",
    "high_24h = '../damage/uv/increase_CPD_24h_high/mutations_dyads.tsv.gz'\n",
    "low_24h = '../damage/uv/increase_CPD_24h_low/mutations_dyads.tsv.gz'\n",
    "\n",
    "\n",
    "snr_high = compute_snr(high_0h, high_24h)\n",
    "snr_low = compute_snr(low_0h, low_24h)\n",
    "\n",
    "plot_bars(snr_high, snr_low)\n",
    "plt.savefig('figs/f5b_repair_bars.svg')\n",
    "plt.show()"
   ]
  },
  {
   "cell_type": "markdown",
   "metadata": {},
   "source": [
    "## c)\n",
    "\n",
    "NMP damage and repair."
   ]
  },
  {
   "cell_type": "markdown",
   "metadata": {},
   "source": [
    "MMS damage"
   ]
  },
  {
   "cell_type": "code",
   "execution_count": null,
   "metadata": {
    "collapsed": true
   },
   "outputs": [],
   "source": [
    "display.SVG(filename='../damage/nmp/increase_newmag/obsexp.svg')"
   ]
  },
  {
   "cell_type": "markdown",
   "metadata": {},
   "source": [
    "Repair MMS 0h -> 2h"
   ]
  },
  {
   "cell_type": "code",
   "execution_count": null,
   "metadata": {
    "collapsed": true
   },
   "outputs": [],
   "source": [
    "from scripts.repair import plot\n",
    "\n",
    "plot('../damage/nmp/increase_0h/mutations_dyads.tsv.gz', \n",
    "            '../damage/nmp/increase_2h/mutations_dyads.tsv.gz')\n",
    "plt.savefig('figs/f5c_MMS_repair.svg')\n",
    "plt.show()"
   ]
  },
  {
   "cell_type": "markdown",
   "metadata": {},
   "source": [
    "## d)\n",
    "\n",
    "Accessibility"
   ]
  },
  {
   "cell_type": "markdown",
   "metadata": {},
   "source": [
    "Human accessibility analysis using high rotational nucleosomes."
   ]
  },
  {
   "cell_type": "code",
   "execution_count": null,
   "metadata": {
    "collapsed": true
   },
   "outputs": [],
   "source": [
    "display.SVG(filename='../accessibility/sapiens/increase_rot_high/obsexp.svg')"
   ]
  },
  {
   "cell_type": "markdown",
   "metadata": {},
   "source": [
    "Human accessibility using high and low rotational nucleosomes."
   ]
  },
  {
   "cell_type": "code",
   "execution_count": null,
   "metadata": {
    "collapsed": true
   },
   "outputs": [],
   "source": [
    "from scripts.rotational import plot_bars\n",
    "\n",
    "snr_high = load('../accessibility/sapiens/increase_rot_high/obsexp.tsv', 'snr')[0]\n",
    "snr_low = load('../accessibility/sapiens/increase_rot_low/obsexp.tsv', 'snr')[0]\n",
    "\n",
    "plot_bars(snr_high, snr_low)\n",
    "plt.savefig('figs/f5d_bars.svg')\n",
    "plt.show()"
   ]
  },
  {
   "cell_type": "markdown",
   "metadata": {},
   "source": [
    "Yeast accesibility"
   ]
  },
  {
   "cell_type": "code",
   "execution_count": null,
   "metadata": {
    "collapsed": true
   },
   "outputs": [],
   "source": [
    "display.SVG(filename='../accessibility/cerevisiae/increase/obsexp.svg')"
   ]
  },
  {
   "cell_type": "code",
   "execution_count": null,
   "metadata": {
    "collapsed": true
   },
   "outputs": [],
   "source": []
  }
 ],
 "metadata": {
  "kernelspec": {
   "display_name": "Python [conda env:env_nucperiod]",
   "language": "python",
   "name": "conda-env-env_nucperiod-py"
  },
  "language_info": {
   "codemirror_mode": {
    "name": "ipython",
    "version": 3
   },
   "file_extension": ".py",
   "mimetype": "text/x-python",
   "name": "python",
   "nbconvert_exporter": "python",
   "pygments_lexer": "ipython3",
   "version": "3.5.6"
  },
  "toc": {
   "nav_menu": {},
   "number_sections": true,
   "sideBar": true,
   "skip_h1_title": false,
   "title_cell": "Table of Contents",
   "title_sidebar": "Contents",
   "toc_cell": false,
   "toc_position": {},
   "toc_section_display": true,
   "toc_window_display": false
  }
 },
 "nbformat": 4,
 "nbformat_minor": 2
}
