{
 "cells": [
  {
   "cell_type": "markdown",
   "metadata": {
    "collapsed": true
   },
   "source": [
    "# Figure 4\n",
    "\n",
    "Signatures analysis\n",
    "\n",
    "To be able to run this notebook it is required to run previously the ones in the following folders: signatures."
   ]
  },
  {
   "cell_type": "code",
   "execution_count": null,
   "metadata": {
    "collapsed": true
   },
   "outputs": [],
   "source": [
    "import os\n",
    "\n",
    "import matplotlib.pyplot as plt\n",
    "from IPython import display\n",
    "\n",
    "os.makedirs('figs', exist_ok=True)"
   ]
  },
  {
   "cell_type": "markdown",
   "metadata": {},
   "source": [
    "## a) \n",
    "\n",
    "TCGA 505 signatures"
   ]
  },
  {
   "cell_type": "code",
   "execution_count": null,
   "metadata": {
    "collapsed": true
   },
   "outputs": [],
   "source": [
    "from scripts.signatures import zoomin\n",
    "\n",
    "tcga = {}\n",
    "folder = '../signatures/tcga_joined/increase'\n",
    "for signature in os.listdir(folder):\n",
    "    data = os.path.join(folder, signature, 'obsexp.tsv')\n",
    "    if os.path.exists(data):\n",
    "        tcga[signature] = data\n",
    "\n",
    "zoomin(tcga)\n",
    "plt.savefig('figs/f4a.svg')\n",
    "plt.show()"
   ]
  },
  {
   "cell_type": "markdown",
   "metadata": {},
   "source": [
    "## b)"
   ]
  },
  {
   "cell_type": "markdown",
   "metadata": {},
   "source": [
    "TCGA Signature 17"
   ]
  },
  {
   "cell_type": "code",
   "execution_count": null,
   "metadata": {
    "collapsed": true
   },
   "outputs": [],
   "source": [
    "display.SVG(filename='../signatures/tcga_joined/increase/Signature_17/obsexp.svg')"
   ]
  },
  {
   "cell_type": "markdown",
   "metadata": {},
   "source": [
    "TCGA Signature 10"
   ]
  },
  {
   "cell_type": "code",
   "execution_count": null,
   "metadata": {
    "collapsed": true
   },
   "outputs": [],
   "source": [
    "display.SVG(filename='../signatures/tcga_joined/increase/Signature_10/obsexp.svg')"
   ]
  },
  {
   "cell_type": "markdown",
   "metadata": {},
   "source": [
    "TCGA Signature 7"
   ]
  },
  {
   "cell_type": "code",
   "execution_count": null,
   "metadata": {
    "collapsed": true
   },
   "outputs": [],
   "source": [
    "display.SVG(filename='../signatures/tcga_joined/increase/Signature_7/obsexp.svg')"
   ]
  },
  {
   "cell_type": "markdown",
   "metadata": {},
   "source": [
    "TCGA Signature 4"
   ]
  },
  {
   "cell_type": "code",
   "execution_count": null,
   "metadata": {
    "collapsed": true
   },
   "outputs": [],
   "source": [
    "display.SVG(filename='../signatures/tcga_joined/increase/Signature_4/obsexp.svg')"
   ]
  },
  {
   "cell_type": "markdown",
   "metadata": {},
   "source": [
    "## c) \n",
    "\n",
    "Bar plots for TCGA Signatures 7, 10, 4 and 17 for the analysis using rotational high and low nucleosomes."
   ]
  },
  {
   "cell_type": "code",
   "execution_count": null,
   "metadata": {
    "collapsed": true
   },
   "outputs": [],
   "source": [
    "from scripts.signatures import rotational_bars\n",
    "\n",
    "signatures = ['Signature_7', 'Signature_10', 'Signature_4', 'Signature_17']\n",
    "rot_high_files = {}\n",
    "rot_low_files = {}\n",
    "for sig in signatures:\n",
    "    rot_high_files[sig] = '../signatures/tcga_joined/increase_rot_high/{}/obsexp.tsv'.format(sig)\n",
    "    rot_low_files[sig] = '../signatures/tcga_joined/increase_rot_low/{}/obsexp.tsv'.format(sig)\n",
    "\n",
    "rotational_bars(rot_high_files, rot_low_files)\n",
    "plt.savefig('figs/f4c.svg')\n",
    "plt.show()"
   ]
  },
  {
   "cell_type": "markdown",
   "metadata": {},
   "source": [
    "## d)"
   ]
  },
  {
   "cell_type": "markdown",
   "metadata": {
    "collapsed": true
   },
   "source": [
    "PanCanAtlas signature 7"
   ]
  },
  {
   "cell_type": "code",
   "execution_count": null,
   "metadata": {
    "collapsed": true
   },
   "outputs": [],
   "source": [
    "display.SVG(filename='../signatures/pancanatlas_joined/increase/Signature_7/obsexp.svg')"
   ]
  },
  {
   "cell_type": "markdown",
   "metadata": {},
   "source": [
    "PanCanAtlas signature 17"
   ]
  },
  {
   "cell_type": "code",
   "execution_count": null,
   "metadata": {
    "collapsed": true
   },
   "outputs": [],
   "source": [
    "display.SVG(filename='../signatures/pancanatlas_joined/increase/Signature_17/obsexp.svg')"
   ]
  }
 ],
 "metadata": {
  "kernelspec": {
   "display_name": "Python [conda env:env_nucperiod]",
   "language": "python",
   "name": "conda-env-env_nucperiod-py"
  },
  "language_info": {
   "codemirror_mode": {
    "name": "ipython",
    "version": 3
   },
   "file_extension": ".py",
   "mimetype": "text/x-python",
   "name": "python",
   "nbconvert_exporter": "python",
   "pygments_lexer": "ipython3",
   "version": "3.5.6"
  },
  "toc": {
   "nav_menu": {},
   "number_sections": true,
   "sideBar": true,
   "skip_h1_title": false,
   "title_cell": "Table of Contents",
   "title_sidebar": "Contents",
   "toc_cell": false,
   "toc_position": {},
   "toc_section_display": true,
   "toc_window_display": false
  }
 },
 "nbformat": 4,
 "nbformat_minor": 2
}
