{
 "cells": [
  {
   "cell_type": "markdown",
   "metadata": {
    "collapsed": true
   },
   "source": [
    "# Figure 3\n",
    "\n",
    "To be able to run this notebook it is required to run previously the ones in the following folders: mutations."
   ]
  },
  {
   "cell_type": "code",
   "execution_count": null,
   "metadata": {
    "collapsed": true
   },
   "outputs": [],
   "source": [
    "import os\n",
    "import json\n",
    "\n",
    "import matplotlib.pyplot as plt\n",
    "from IPython import display\n",
    "\n",
    "os.makedirs('figs', exist_ok=True)\n",
    "with open('list_ttypes.json', 'r') as fp:\n",
    "    tumors = json.load(fp)"
   ]
  },
  {
   "cell_type": "code",
   "execution_count": null,
   "metadata": {
    "collapsed": true
   },
   "outputs": [],
   "source": [
    "import pandas as pd\n",
    "\n",
    "samples = {}\n",
    "\n",
    "folders = ['../mutations/tcga/samples/increase', '../mutations/icgc/samples/increase']\n",
    "for folder in folders:\n",
    "    for ctype in os.listdir(folder):\n",
    "        if ctype in tumors:\n",
    "            ctype_folder = os.path.join(folder, ctype)\n",
    "            for sample in os.listdir(ctype_folder):\n",
    "                file = os.path.join(ctype_folder, sample, 'obsexp.tsv')\n",
    "                if os.path.exists(file):\n",
    "                    samples[sample] = file\n",
    "samples['PD20399be'] = '../mutations/eyelid/increase/obsexp.tsv'\n",
    "                    \n",
    "                    \n",
    "muts_info = []                   \n",
    "for file in ['../mutations/tcga/samples/sample_tracksheet.tsv.gz', '../mutations/icgc/samples/sample_tracksheet.tsv.gz']: \n",
    "    muts_info.append(pd.read_csv(file, sep='\\t', names=['name', 'file', 'muts']))\n",
    "tracksheets = pd.concat(muts_info, ignore_index=True)\n",
    "tracksheets['tumor_name'] = tracksheets['file'].apply(lambda x: x.split('.')[0])\n",
    "tracksheets = tracksheets.append({'tumor_name': 'eyelid', 'file': 'eyelid.tsv.gz', 'name': 'PD20399be', 'muts': 71120}, ignore_index=True)"
   ]
  },
  {
   "cell_type": "markdown",
   "metadata": {
    "collapsed": true
   },
   "source": [
    "## a)"
   ]
  },
  {
   "cell_type": "code",
   "execution_count": null,
   "metadata": {
    "collapsed": true
   },
   "outputs": [],
   "source": [
    "from scripts.cohorts import TTYPES, COLORS\n",
    "from scripts.samples import sigmoid\n",
    "\n",
    "sigmoid(samples, tracksheets, TTYPES, COLORS)\n",
    "plt.savefig('figs/f3a.svg')\n",
    "plt.show()"
   ]
  },
  {
   "cell_type": "markdown",
   "metadata": {},
   "source": [
    "## b)"
   ]
  },
  {
   "cell_type": "markdown",
   "metadata": {},
   "source": [
    "Increase"
   ]
  },
  {
   "cell_type": "code",
   "execution_count": null,
   "metadata": {
    "collapsed": true
   },
   "outputs": [],
   "source": [
    "from scripts.cohorts import TTYPES, COLORS\n",
    "from scripts.samples import scatter\n",
    "\n",
    "TTYPES['eyelid'] = 'Normal Skin'\n",
    "\n",
    "scatter(samples, tracksheets, TTYPES, COLORS)\n",
    "plt.savefig('figs/f3b_1.svg')\n",
    "plt.show()"
   ]
  },
  {
   "cell_type": "markdown",
   "metadata": {},
   "source": [
    "Signatures contributions"
   ]
  },
  {
   "cell_type": "code",
   "execution_count": null,
   "metadata": {
    "collapsed": true
   },
   "outputs": [],
   "source": [
    "import glob\n",
    "from scripts.samples import piechart\n",
    "from scripts.signatures import COLORS\n",
    "\n",
    "sample_ids = ['DO220850',  # Melanoma opposite 21006\n",
    "          'TCGA-05-4395-01A',  # LUAD 37930\n",
    "          'DO218136',  # GACA 45646\n",
    "          'DO228371',  # lymph 73673\n",
    "          'DO50406',  # Esopagous 128895\n",
    "          'TCGA-AP-A051-01A',  # UCEC 606796\n",
    "          'DO222363',  # 761172 Melanoma\n",
    "          'TCGA-CA-6717-01A',  # colorectal\n",
    "          'PD20399be'  # Normal Skin\n",
    "          ]\n",
    "\n",
    "files = glob.glob('../signatures/tcga/*/signatures_weight.tsv')\n",
    "files += glob.glob('../signatures/icgc/*/signatures_weight.tsv')\n",
    "files.append('../signatures/eyelid/eyelid/signatures_weight.tsv')\n",
    "\n",
    "piechart(files, COLORS, sample_ids)\n",
    "plt.savefig('figs/f3b_piecharts.svg')\n",
    "plt.show()"
   ]
  },
  {
   "cell_type": "markdown",
   "metadata": {},
   "source": [
    "Skin Cancer sample DO220850"
   ]
  },
  {
   "cell_type": "code",
   "execution_count": null,
   "metadata": {
    "collapsed": true
   },
   "outputs": [],
   "source": [
    "display.SVG(filename='../mutations/icgc/samples/increase/MELA-AU/DO220850/obsexp.svg')"
   ]
  },
  {
   "cell_type": "markdown",
   "metadata": {},
   "source": [
    "Normal Skin"
   ]
  },
  {
   "cell_type": "code",
   "execution_count": null,
   "metadata": {
    "collapsed": true
   },
   "outputs": [],
   "source": [
    "display.SVG(filename='../mutations/eyelid/increase/obsexp.svg')"
   ]
  },
  {
   "cell_type": "markdown",
   "metadata": {},
   "source": [
    "Esophageal cancer sample DO50406"
   ]
  },
  {
   "cell_type": "code",
   "execution_count": null,
   "metadata": {
    "collapsed": true
   },
   "outputs": [],
   "source": [
    "display.SVG(filename='../mutations/icgc/samples/increase/ESAD-UK/DO50406/obsexp.svg')"
   ]
  },
  {
   "cell_type": "markdown",
   "metadata": {},
   "source": [
    "Skin cancer sample DO222363"
   ]
  },
  {
   "cell_type": "code",
   "execution_count": null,
   "metadata": {
    "collapsed": true
   },
   "outputs": [],
   "source": [
    "display.SVG(filename='../mutations/icgc/samples/increase/MELA-AU/DO222363/obsexp.svg')"
   ]
  }
 ],
 "metadata": {
  "kernelspec": {
   "display_name": "Python [conda env:env_nucperiod]",
   "language": "python",
   "name": "conda-env-env_nucperiod-py"
  },
  "language_info": {
   "codemirror_mode": {
    "name": "ipython",
    "version": 3
   },
   "file_extension": ".py",
   "mimetype": "text/x-python",
   "name": "python",
   "nbconvert_exporter": "python",
   "pygments_lexer": "ipython3",
   "version": "3.5.6"
  },
  "toc": {
   "nav_menu": {},
   "number_sections": true,
   "sideBar": true,
   "skip_h1_title": false,
   "title_cell": "Table of Contents",
   "title_sidebar": "Contents",
   "toc_cell": false,
   "toc_position": {},
   "toc_section_display": true,
   "toc_window_display": false
  }
 },
 "nbformat": 4,
 "nbformat_minor": 2
}
