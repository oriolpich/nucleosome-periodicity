{
 "cells": [
  {
   "cell_type": "markdown",
   "metadata": {
    "collapsed": true
   },
   "source": [
    "# Supplementary figure 3\n",
    "\n",
    "To be able to run this notebook it is required to run previously the ones in the following folders: signatures. In addition, the ``list_ttypes.json`` file generated in **figure1** notebook is also used."
   ]
  },
  {
   "cell_type": "code",
   "execution_count": null,
   "metadata": {
    "collapsed": true
   },
   "outputs": [],
   "source": [
    "import json\n",
    "import os\n",
    "\n",
    "import matplotlib.pyplot as plt\n",
    "\n",
    "os.makedirs('figs', exist_ok=True)\n",
    "\n",
    "with open('list_ttypes.json', 'r') as fp:\n",
    "    tumors = json.load(fp)"
   ]
  },
  {
   "cell_type": "markdown",
   "metadata": {},
   "source": [
    "## a)"
   ]
  },
  {
   "cell_type": "code",
   "execution_count": null,
   "metadata": {
    "collapsed": true
   },
   "outputs": [],
   "source": [
    "from scripts.signatures import compare\n",
    "\n",
    "deconstructsigs = {}\n",
    "sigfit = {}\n",
    "for n in range(1, 31):\n",
    "    signature = 'Signature_{}'.format(n)\n",
    "    data_deconstructsigs = os.path.join('../signatures/tcga_joined/increase', signature, 'obsexp.tsv')\n",
    "    data_sigfit = os.path.join('../signatures/tcga_joined_sigfit/increase', signature, 'obsexp.tsv')\n",
    "    if os.path.exists(data_deconstructsigs) and os.path.exists(data_sigfit):\n",
    "        deconstructsigs[signature] = data_deconstructsigs\n",
    "        sigfit[signature] = data_sigfit\n",
    "\n",
    "compare(deconstructsigs, sigfit)\n",
    "plt.savefig('figs/fS3a.svg')\n",
    "plt.show()"
   ]
  },
  {
   "cell_type": "markdown",
   "metadata": {},
   "source": [
    "## b)"
   ]
  },
  {
   "cell_type": "code",
   "execution_count": null,
   "metadata": {
    "collapsed": true
   },
   "outputs": [],
   "source": [
    "from scripts.signatures import zoomout\n",
    "\n",
    "tcga = {}\n",
    "folder = '../signatures/tcga_joined/increase_zoomout'\n",
    "for signature in os.listdir(folder):\n",
    "    data = os.path.join(folder, signature, 'obsexp.tsv')\n",
    "    if os.path.exists(data):\n",
    "        tcga[signature] = data\n",
    "        \n",
    "zoomout(tcga)\n",
    "plt.savefig('figs/fS3b.svg')\n",
    "plt.show()"
   ]
  },
  {
   "cell_type": "markdown",
   "metadata": {
    "collapsed": true
   },
   "source": [
    "## c)"
   ]
  },
  {
   "cell_type": "code",
   "execution_count": null,
   "metadata": {
    "collapsed": true
   },
   "outputs": [],
   "source": [
    "from scripts.cohorts import TTYPES, COLORS\n",
    "from scripts.signatures import cohorts\n",
    "\n",
    "files = {}\n",
    "for project in ['icgc', 'tcga']:\n",
    "    project_folder = '../signatures/{}/increase'.format(project)\n",
    "    for name in os.listdir(project_folder):\n",
    "        ttype, signature = name.split('_', 1)\n",
    "        if ttype in tumors:\n",
    "            data_folder = os.path.join(project_folder, name)\n",
    "            cohort = TTYPES[ttype]\n",
    "            file = os.path.join(data_folder, 'obsexp.tsv')\n",
    "            if os.path.exists(file):\n",
    "                files['__'.join([cohort, signature])] = file\n",
    "\n",
    "cohorts(files, COLORS)\n",
    "plt.savefig('figs/fS3c.svg')\n",
    "plt.show()"
   ]
  }
 ],
 "metadata": {
  "kernelspec": {
   "display_name": "Python [conda env:env_nucperiod]",
   "language": "python",
   "name": "conda-env-env_nucperiod-py"
  },
  "language_info": {
   "codemirror_mode": {
    "name": "ipython",
    "version": 3
   },
   "file_extension": ".py",
   "mimetype": "text/x-python",
   "name": "python",
   "nbconvert_exporter": "python",
   "pygments_lexer": "ipython3",
   "version": "3.5.6"
  },
  "toc": {
   "nav_menu": {},
   "number_sections": true,
   "sideBar": true,
   "skip_h1_title": false,
   "title_cell": "Table of Contents",
   "title_sidebar": "Contents",
   "toc_cell": false,
   "toc_position": {},
   "toc_section_display": true,
   "toc_window_display": false
  }
 },
 "nbformat": 4,
 "nbformat_minor": 2
}
