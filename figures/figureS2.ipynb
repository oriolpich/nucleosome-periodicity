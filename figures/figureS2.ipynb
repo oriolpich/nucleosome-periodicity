{
 "cells": [
  {
   "cell_type": "markdown",
   "metadata": {
    "collapsed": true
   },
   "source": [
    "# Supplemantary figure 2\n",
    "\n",
    "To be able to run this notebook it is required to run previously the ones in the following folders: mutations. In addition, the ``list_ttypes.json`` file generated in **figure1** notebook is also used."
   ]
  },
  {
   "cell_type": "code",
   "execution_count": null,
   "metadata": {
    "collapsed": true
   },
   "outputs": [],
   "source": [
    "import json\n",
    "import os\n",
    "\n",
    "import matplotlib.pyplot as plt\n",
    "from IPython import display\n",
    "\n",
    "os.makedirs('figs', exist_ok=True)\n",
    "\n",
    "with open('list_ttypes.json', 'r') as fp:\n",
    "    tumors = json.load(fp)"
   ]
  },
  {
   "cell_type": "markdown",
   "metadata": {},
   "source": [
    "## a)"
   ]
  },
  {
   "cell_type": "markdown",
   "metadata": {
    "collapsed": true
   },
   "source": [
    "TCGA BLCA"
   ]
  },
  {
   "cell_type": "code",
   "execution_count": null,
   "metadata": {
    "collapsed": true
   },
   "outputs": [],
   "source": [
    "display.SVG(filename='../mutations/{}/cohorts/increase_zoomin/{}/obsexp.svg'.format('tcga', 'BLCA'))"
   ]
  },
  {
   "cell_type": "markdown",
   "metadata": {},
   "source": [
    "TCGA CRC"
   ]
  },
  {
   "cell_type": "code",
   "execution_count": null,
   "metadata": {
    "collapsed": true
   },
   "outputs": [],
   "source": [
    "display.SVG(filename='../mutations/{}/cohorts/increase_zoomin/{}/obsexp.svg'.format('tcga', 'CRC'))"
   ]
  },
  {
   "cell_type": "markdown",
   "metadata": {},
   "source": [
    "TCGA GBM"
   ]
  },
  {
   "cell_type": "code",
   "execution_count": null,
   "metadata": {
    "collapsed": true
   },
   "outputs": [],
   "source": [
    "display.SVG(filename='../mutations/{}/cohorts/increase_zoomin/{}/obsexp.svg'.format('tcga', 'GBM'))"
   ]
  },
  {
   "cell_type": "markdown",
   "metadata": {},
   "source": [
    "TCGA HNSC"
   ]
  },
  {
   "cell_type": "code",
   "execution_count": null,
   "metadata": {
    "collapsed": true
   },
   "outputs": [],
   "source": [
    "display.SVG(filename='../mutations/{}/cohorts/increase_zoomin/{}/obsexp.svg'.format('tcga', 'HNSC'))"
   ]
  },
  {
   "cell_type": "markdown",
   "metadata": {},
   "source": [
    "TCGA KICH"
   ]
  },
  {
   "cell_type": "code",
   "execution_count": null,
   "metadata": {
    "collapsed": true
   },
   "outputs": [],
   "source": [
    "display.SVG(filename='../mutations/{}/cohorts/increase_zoomin/{}/obsexp.svg'.format('tcga', 'KICH'))"
   ]
  },
  {
   "cell_type": "markdown",
   "metadata": {},
   "source": [
    "TCGA LGG"
   ]
  },
  {
   "cell_type": "code",
   "execution_count": null,
   "metadata": {
    "collapsed": true
   },
   "outputs": [],
   "source": [
    "display.SVG(filename='../mutations/{}/cohorts/increase_zoomin/{}/obsexp.svg'.format('tcga', 'LGG'))"
   ]
  },
  {
   "cell_type": "markdown",
   "metadata": {},
   "source": [
    "TCGA LUSC"
   ]
  },
  {
   "cell_type": "code",
   "execution_count": null,
   "metadata": {
    "collapsed": true
   },
   "outputs": [],
   "source": [
    "display.SVG(filename='../mutations/{}/cohorts/increase_zoomin/{}/obsexp.svg'.format('tcga', 'LUSC'))"
   ]
  },
  {
   "cell_type": "markdown",
   "metadata": {},
   "source": [
    "TCGA THCA"
   ]
  },
  {
   "cell_type": "code",
   "execution_count": null,
   "metadata": {
    "collapsed": true
   },
   "outputs": [],
   "source": [
    "display.SVG(filename='../mutations/{}/cohorts/increase_zoomin/{}/obsexp.svg'.format('tcga', 'THCA'))"
   ]
  },
  {
   "cell_type": "markdown",
   "metadata": {},
   "source": [
    "TCGA UCEC"
   ]
  },
  {
   "cell_type": "code",
   "execution_count": null,
   "metadata": {
    "collapsed": true
   },
   "outputs": [],
   "source": [
    "display.SVG(filename='../mutations/{}/cohorts/increase_zoomin/{}/obsexp.svg'.format('tcga', 'UCEC'))"
   ]
  },
  {
   "cell_type": "markdown",
   "metadata": {},
   "source": [
    "ICGC BOCA-UK"
   ]
  },
  {
   "cell_type": "code",
   "execution_count": null,
   "metadata": {
    "collapsed": true
   },
   "outputs": [],
   "source": [
    "display.SVG(filename='../mutations/{}/cohorts/increase_zoomin/{}/obsexp.svg'.format('icgc', 'BOCA-UK'))"
   ]
  },
  {
   "cell_type": "markdown",
   "metadata": {},
   "source": [
    "ICGC BRCA-EU"
   ]
  },
  {
   "cell_type": "code",
   "execution_count": null,
   "metadata": {
    "collapsed": true
   },
   "outputs": [],
   "source": [
    "display.SVG(filename='../mutations/{}/cohorts/increase_zoomin/{}/obsexp.svg'.format('icgc', 'BRCA-EU'))"
   ]
  },
  {
   "cell_type": "markdown",
   "metadata": {},
   "source": [
    "ICGC CLLE-ES"
   ]
  },
  {
   "cell_type": "code",
   "execution_count": null,
   "metadata": {
    "collapsed": true
   },
   "outputs": [],
   "source": [
    "display.SVG(filename='../mutations/{}/cohorts/increase_zoomin/{}/obsexp.svg'.format('icgc', 'CLLE-ES'))"
   ]
  },
  {
   "cell_type": "markdown",
   "metadata": {},
   "source": [
    "ICGC CMDI-UK"
   ]
  },
  {
   "cell_type": "code",
   "execution_count": null,
   "metadata": {
    "collapsed": true
   },
   "outputs": [],
   "source": [
    "display.SVG(filename='../mutations/{}/cohorts/increase_zoomin/{}/obsexp.svg'.format('icgc', 'CMDI-UK'))"
   ]
  },
  {
   "cell_type": "markdown",
   "metadata": {},
   "source": [
    "ICGC GACA-CN"
   ]
  },
  {
   "cell_type": "code",
   "execution_count": null,
   "metadata": {
    "collapsed": true
   },
   "outputs": [],
   "source": [
    "display.SVG(filename='../mutations/{}/cohorts/increase_zoomin/{}/obsexp.svg'.format('icgc', 'GACA-CN'))"
   ]
  },
  {
   "cell_type": "markdown",
   "metadata": {},
   "source": [
    "ICGC LAML-KR"
   ]
  },
  {
   "cell_type": "code",
   "execution_count": null,
   "metadata": {
    "collapsed": true
   },
   "outputs": [],
   "source": [
    "display.SVG(filename='../mutations/{}/cohorts/increase_zoomin/{}/obsexp.svg'.format('icgc', 'LAML-KR'))"
   ]
  },
  {
   "cell_type": "markdown",
   "metadata": {},
   "source": [
    "ICGC LIAD-FR"
   ]
  },
  {
   "cell_type": "code",
   "execution_count": null,
   "metadata": {
    "collapsed": true
   },
   "outputs": [],
   "source": [
    "display.SVG(filename='../mutations/{}/cohorts/increase_zoomin/{}/obsexp.svg'.format('icgc', 'LIAD-FR'))"
   ]
  },
  {
   "cell_type": "markdown",
   "metadata": {},
   "source": [
    "ICGC LIRI-JP"
   ]
  },
  {
   "cell_type": "code",
   "execution_count": null,
   "metadata": {
    "collapsed": true
   },
   "outputs": [],
   "source": [
    "display.SVG(filename='../mutations/{}/cohorts/increase_zoomin/{}/obsexp.svg'.format('icgc', 'LIRI-JP'))"
   ]
  },
  {
   "cell_type": "markdown",
   "metadata": {},
   "source": [
    "ICGC ORCA-IN"
   ]
  },
  {
   "cell_type": "code",
   "execution_count": null,
   "metadata": {
    "collapsed": true
   },
   "outputs": [],
   "source": [
    "display.SVG(filename='../mutations/{}/cohorts/increase_zoomin/{}/obsexp.svg'.format('icgc', 'ORCA-IN'))"
   ]
  },
  {
   "cell_type": "markdown",
   "metadata": {},
   "source": [
    "ICGC PACA-AU"
   ]
  },
  {
   "cell_type": "code",
   "execution_count": null,
   "metadata": {
    "collapsed": true
   },
   "outputs": [],
   "source": [
    "display.SVG(filename='../mutations/{}/cohorts/increase_zoomin/{}/obsexp.svg'.format('icgc', 'PACA-AU'))"
   ]
  },
  {
   "cell_type": "markdown",
   "metadata": {},
   "source": [
    "ICGC PACA-CA"
   ]
  },
  {
   "cell_type": "code",
   "execution_count": null,
   "metadata": {
    "collapsed": true
   },
   "outputs": [],
   "source": [
    "display.SVG(filename='../mutations/{}/cohorts/increase_zoomin/{}/obsexp.svg'.format('icgc', 'PACA-CA'))"
   ]
  },
  {
   "cell_type": "markdown",
   "metadata": {},
   "source": [
    "ICGC PBCA-DE"
   ]
  },
  {
   "cell_type": "code",
   "execution_count": null,
   "metadata": {
    "collapsed": true
   },
   "outputs": [],
   "source": [
    "display.SVG(filename='../mutations/{}/cohorts/increase_zoomin/{}/obsexp.svg'.format('icgc', 'PBCA-DE'))"
   ]
  },
  {
   "cell_type": "markdown",
   "metadata": {},
   "source": [
    "ICGC PRAD-UK"
   ]
  },
  {
   "cell_type": "code",
   "execution_count": null,
   "metadata": {
    "collapsed": true
   },
   "outputs": [],
   "source": [
    "display.SVG(filename='../mutations/{}/cohorts/increase_zoomin/{}/obsexp.svg'.format('icgc', 'PRAD-UK'))"
   ]
  },
  {
   "cell_type": "markdown",
   "metadata": {},
   "source": [
    "ICGC RECA-EU"
   ]
  },
  {
   "cell_type": "code",
   "execution_count": null,
   "metadata": {
    "collapsed": true
   },
   "outputs": [],
   "source": [
    "display.SVG(filename='../mutations/{}/cohorts/increase_zoomin/{}/obsexp.svg'.format('icgc', 'RECA-EU'))"
   ]
  },
  {
   "cell_type": "markdown",
   "metadata": {},
   "source": [
    "## b)"
   ]
  },
  {
   "cell_type": "code",
   "execution_count": null,
   "metadata": {
    "collapsed": true
   },
   "outputs": [],
   "source": [
    "from scripts.cohorts import compare\n",
    "\n",
    "cohorts_3mer = {}\n",
    "cohorts_5mer = {}\n",
    "cohorts_linker = {}\n",
    "\n",
    "for name in tumors:\n",
    "    project = 'icgc' if '-' in name else 'tcga'\n",
    "    cohorts_3mer[name] = '../mutations/{}/cohorts/increase_zoomin_3mer/{}/obsexp.tsv'.format(project, name)\n",
    "    cohorts_5mer[name] = '../mutations/{}/cohorts/increase_zoomin/{}/obsexp.tsv'.format(project, name)\n",
    "    cohorts_linker[name] = '../mutations/{}/cohorts/increase_zoomin_linker/{}/obsexp.tsv'.format(project, name)\n",
    "\n",
    "compare(cohorts_5mer, cohorts_3mer, cohorts_linker)\n",
    "plt.savefig('figs/fS2b.svg')\n",
    "plt.show()"
   ]
  },
  {
   "cell_type": "markdown",
   "metadata": {},
   "source": [
    "## c)"
   ]
  },
  {
   "cell_type": "code",
   "execution_count": null,
   "metadata": {
    "collapsed": true
   },
   "outputs": [],
   "source": [
    "from scripts.cohorts import rotational\n",
    "\n",
    "cohorts_rot_high = {}\n",
    "cohorts_rot_low = {}\n",
    "\n",
    "for name in tumors:\n",
    "    project = 'icgc' if '-' in name else 'tcga'\n",
    "    high_file = '../mutations/{}/cohorts/increase_zoomin_rot_high/{}/obsexp.tsv'.format(project, name)\n",
    "    low_file = '../mutations/{}/cohorts/increase_zoomin_rot_low/{}/obsexp.tsv'.format(project, name)\n",
    "    if os.path.exists(high_file) and os.path.exists(low_file):\n",
    "        cohorts_rot_high[name] = high_file\n",
    "        cohorts_rot_low[name] = low_file\n",
    "\n",
    "rotational(cohorts_rot_high, cohorts_rot_low)\n",
    "plt.savefig('figs/fS2c.svg')\n",
    "plt.show()"
   ]
  }
 ],
 "metadata": {
  "kernelspec": {
   "display_name": "Python [conda env:env_nucperiod]",
   "language": "python",
   "name": "conda-env-env_nucperiod-py"
  },
  "language_info": {
   "codemirror_mode": {
    "name": "ipython",
    "version": 3
   },
   "file_extension": ".py",
   "mimetype": "text/x-python",
   "name": "python",
   "nbconvert_exporter": "python",
   "pygments_lexer": "ipython3",
   "version": "3.5.6"
  },
  "toc": {
   "nav_menu": {},
   "number_sections": true,
   "sideBar": true,
   "skip_h1_title": false,
   "title_cell": "Table of Contents",
   "title_sidebar": "Contents",
   "toc_cell": false,
   "toc_position": {},
   "toc_section_display": true,
   "toc_window_display": false
  }
 },
 "nbformat": 4,
 "nbformat_minor": 2
}
