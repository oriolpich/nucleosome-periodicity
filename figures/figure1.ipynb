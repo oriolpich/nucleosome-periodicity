{
 "cells": [
  {
   "cell_type": "markdown",
   "metadata": {
    "collapsed": true
   },
   "source": [
    "# Figure 1\n",
    "\n",
    "To be able to run this notebook it is required to run previously the ones in the following folders: mutations."
   ]
  },
  {
   "cell_type": "code",
   "execution_count": null,
   "metadata": {
    "collapsed": true
   },
   "outputs": [],
   "source": [
    "import json\n",
    "import os\n",
    "\n",
    "import matplotlib.pyplot as plt\n",
    "from IPython import display\n",
    "\n",
    "os.makedirs('figs', exist_ok=True)"
   ]
  },
  {
   "cell_type": "markdown",
   "metadata": {},
   "source": [
    "This figure and some other combine ICGC and TCGA cohort and get only the ones that pass certain filters. If 2 different cohorts belong to the cancer type, the biggest one is used.\n",
    "\n",
    "The list can be found in ``list_ttypes.txt``"
   ]
  },
  {
   "cell_type": "code",
   "execution_count": null,
   "metadata": {
    "collapsed": true
   },
   "outputs": [],
   "source": [
    "from scripts.cohorts import find\n",
    "\n",
    "tcga = {}\n",
    "for file in os.listdir('../mutations/tcga/cohorts'):\n",
    "    name = file.replace('.tsv.gz', '')\n",
    "    data = '../mutations/tcga/cohorts/increase_zoomout/{}/obsexp.tsv'.format(name)\n",
    "    if os.path.exists(data):\n",
    "        tcga[name] = data\n",
    "icgc = {}\n",
    "for file in os.listdir('../mutations/icgc/cohorts'):\n",
    "    name = file.replace('.tsv.gz', '')\n",
    "    data = '../mutations/icgc/cohorts/increase_zoomout/{}/obsexp.tsv'.format(name)\n",
    "    if os.path.exists(data):\n",
    "        icgc[name] = data\n",
    "cohorts = {**tcga, **icgc}\n",
    "tumors = find(cohorts, min_muts=10000)\n",
    "\n",
    "print(tumors)\n",
    "   \n",
    "with open('list_ttypes.json', 'w') as fp:\n",
    "    json.dump(tumors, fp)"
   ]
  },
  {
   "cell_type": "markdown",
   "metadata": {},
   "source": [
    "## b)\n",
    "\n",
    "Analysis of Esophageal Cancer"
   ]
  },
  {
   "cell_type": "code",
   "execution_count": null,
   "metadata": {
    "collapsed": true
   },
   "outputs": [],
   "source": [
    "display.SVG(filename='../mutations/icgc/cohorts/increase_zoomout/ESAD-UK/obsexp.svg')"
   ]
  },
  {
   "cell_type": "markdown",
   "metadata": {},
   "source": [
    "## c)\n",
    "\n",
    "Cohorts in list_ttypes.txt"
   ]
  },
  {
   "cell_type": "code",
   "execution_count": null,
   "metadata": {
    "collapsed": true
   },
   "outputs": [],
   "source": [
    "from scripts.cohorts import zoomout\n",
    "\n",
    "zoomout(cohorts, tumors)\n",
    "plt.savefig('figs/f1c.svg')\n",
    "plt.show()"
   ]
  },
  {
   "cell_type": "markdown",
   "metadata": {},
   "source": [
    "## d)\n"
   ]
  },
  {
   "cell_type": "code",
   "execution_count": null,
   "metadata": {
    "collapsed": true
   },
   "outputs": [],
   "source": [
    "display.SVG(filename='../mutations/icgc/cohorts/increase_zoomout/MELA-AU/obsexp.svg')"
   ]
  },
  {
   "cell_type": "code",
   "execution_count": null,
   "metadata": {
    "collapsed": true
   },
   "outputs": [],
   "source": [
    "display.SVG(filename='../mutations/icgc/cohorts/increase_zoomout/OV-AU/obsexp.svg')"
   ]
  },
  {
   "cell_type": "code",
   "execution_count": null,
   "metadata": {
    "collapsed": true
   },
   "outputs": [],
   "source": [
    "display.SVG(filename='../mutations/tcga/cohorts/increase_zoomout/LUAD/obsexp.svg')"
   ]
  },
  {
   "cell_type": "code",
   "execution_count": null,
   "metadata": {
    "collapsed": true
   },
   "outputs": [],
   "source": [
    "display.SVG(filename='../mutations/icgc/cohorts/increase_zoomout/MALY-DE/obsexp.svg')"
   ]
  }
 ],
 "metadata": {
  "kernelspec": {
   "display_name": "Python [conda env:env_nucperiod]",
   "language": "python",
   "name": "conda-env-env_nucperiod-py"
  },
  "language_info": {
   "codemirror_mode": {
    "name": "ipython",
    "version": 3
   },
   "file_extension": ".py",
   "mimetype": "text/x-python",
   "name": "python",
   "nbconvert_exporter": "python",
   "pygments_lexer": "ipython3",
   "version": "3.5.6"
  },
  "toc": {
   "nav_menu": {},
   "number_sections": true,
   "sideBar": true,
   "skip_h1_title": false,
   "title_cell": "Table of Contents",
   "title_sidebar": "Contents",
   "toc_cell": false,
   "toc_position": {},
   "toc_section_display": true,
   "toc_window_display": false
  }
 },
 "nbformat": 4,
 "nbformat_minor": 2
}
