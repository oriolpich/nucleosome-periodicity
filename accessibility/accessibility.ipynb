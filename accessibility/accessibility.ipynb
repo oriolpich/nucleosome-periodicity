{
 "cells": [
  {
   "cell_type": "markdown",
   "metadata": {},
   "source": [
    "# Accessibilty\n",
    "\n",
    "The reads obtained from sequencing DNA fragments obtained by digestion with DNAse for two species have been analysed:\n",
    "- [H. sapiens](#human)\n",
    "- [S. cerevisiae](#yeast)\n",
    "\n",
    "To be able to run this notebook it is required to run previously the ones in the following folders: nucleosomes, rotational and increase. In addition, some external data needs to be downloaded. In each section you can find further details."
   ]
  },
  {
   "cell_type": "markdown",
   "metadata": {},
   "source": [
    "## H. sapiens <a id=\"human\"></a>\n",
    "\n",
    "Create a folder named **sapiens** and place inside:\n",
    "\n",
    "- The data from http://eqtl.uchicago.edu/dsQTL_data/MAPPED_READS/all.mapped.reads.tar.gz  \n",
    "Please, uncompress and extract the file before running the notebook.\n",
    "\n",
    "- The hg18 to hg19 chain file downloaded from http://hgdownload.soe.ucsc.edu/goldenPath/hg18/liftOver/hg18ToHg19.over.chain.gz"
   ]
  },
  {
   "cell_type": "markdown",
   "metadata": {},
   "source": [
    "Parse the input data."
   ]
  },
  {
   "cell_type": "code",
   "execution_count": null,
   "metadata": {
    "collapsed": true
   },
   "outputs": [],
   "source": [
    "%%bash --out output1 --err error1\n",
    "\n",
    "cd sapiens\n",
    "\n",
    "data_folder=data/share/DNaseQTLsV2  # folder where the extracted files are\n",
    "\n",
    "for individual in NA18507 NA18508 NA18516 NA18522 NA19193 NA19238 NA19239\n",
    "do\n",
    "    zcat ${data_folder}/${individual}* | \\\n",
    "        awk -v sample=${individual} '{OFS=\"\\t\"}{print $1, $2-1, $2, $3, sample}'\n",
    "done | gzip > filtered_dnase.bed.gz\n",
    "\n",
    "source activate env_crossmap  # CrossMap needs to run on a different environment\n",
    "CrossMap.py bed hg18ToHg19.over.chain.gz filtered_dnase.bed.gz filtered_dnase_hg19.bed\n",
    "gzip -f filtered_dnase_hg19.bed\n",
    "\n",
    "zcat filtered_dnase_hg19.bed.gz | \\\n",
    "    awk '{OFS=\"\\t\"}{print $1, $3, \"-\", \"-\", $5}' | \\\n",
    "    gzip > dnase.tsv.gz"
   ]
  },
  {
   "cell_type": "markdown",
   "metadata": {},
   "source": [
    "Compute the relative increase in mutation rate for the zoomin using all the dyads (``increase`` folder), using high rotational dyads (``increase_rot_high`` folder) and using low rotational  dyads (``increase_rot_low`` folder)."
   ]
  },
  {
   "cell_type": "code",
   "execution_count": null,
   "metadata": {
    "collapsed": true
   },
   "outputs": [],
   "source": [
    "%%bash --out output2 --err error2\n",
    "\n",
    "source activate env_nucperiod\n",
    "\n",
    "increase_scripts=${PWD}/../increase/scripts\n",
    "increase=${PWD}/../increase/sapiens\n",
    "mapping=${PWD}/../nucleosomes/sapiens\n",
    "rotational=${PWD}/../rotational/sapiens\n",
    "\n",
    "cd sapiens\n",
    "\n",
    "bash ${increase_scripts}/increase.sh dnase.tsv.gz zoomin hg19 5 ${mapping}/dyads.bed.gz \\\n",
    "    ${increase}/hg19_filtered_5mer_counts.json.gz increase\n",
    "    \n",
    "bash ${increase_scripts}/increase.sh dnase.tsv.gz zoomin hg19 5 ${rotational}/high_rotational_dyads.bed.gz \\\n",
    "    ${increase}/hg19_filtered_5mer_counts.json.gz increase_rot_high\n",
    "    \n",
    "bash ${increase_scripts}/increase.sh dnase.tsv.gz zoomin hg19 5 ${rotational}/low_rotational_dyads.bed.gz \\\n",
    "    ${increase}/hg19_filtered_5mer_counts.json.gz increase_rot_low"
   ]
  },
  {
   "cell_type": "markdown",
   "metadata": {},
   "source": [
    "## S. cerevisiae <a id=\"yeast\"></a>\n",
    "\n",
    "Create a folder named **cerevisiase** and place inside:\n",
    "\n",
    "- The data from https://www.ncbi.nlm.nih.gov/geo/download/?acc=GSE69651&format=file  \n",
    "Please, extract the files before running the notebook.\n",
    "\n",
    "- sacCer2 to sacCer3 chain file downloaded from http://hgdownload.soe.ucsc.edu/goldenPath/sacCer2/liftOver/"
   ]
  },
  {
   "cell_type": "markdown",
   "metadata": {},
   "source": [
    "Concatenate all the files into a single one, keeping separate sample identifiers."
   ]
  },
  {
   "cell_type": "code",
   "execution_count": null,
   "metadata": {
    "collapsed": true
   },
   "outputs": [],
   "source": [
    "import glob\n",
    "from os import path\n",
    "\n",
    "import pandas as pd\n",
    "\n",
    "from nucperiod.utils import int2roman\n",
    "\n",
    "ws = 'cerevisiae'\n",
    "output = path.join(ws, 'DNase-seq_saccer2.bed.gz')\n",
    "\n",
    "data = []\n",
    "for file in glob.iglob(path.join(ws, '*.csv.gz')):\n",
    "    sample_id = path.basename(file).replace('GSM1705337_DNase-seq_W303_S_cerevisiae_', '').replace('.csv.gz', '')\n",
    "    df_saccer = pd.read_csv(file, low_memory=False)\n",
    "    df_saccer = df_saccer[df_saccer['chr']!='M']\n",
    "    df_saccer['sample'] = sample_id\n",
    "    data.append(df_saccer)\n",
    "    \n",
    "\n",
    "total_saccer = pd.concat(data)\n",
    "total_saccer = total_saccer[total_saccer['total_count']>0]\n",
    "total_saccer['fixed_chr'] = total_saccer['chr'].apply(lambda x : 'chr{}'.format(int2roman(int(x))))\n",
    "total_saccer['pos-1'] = total_saccer['pos']-1\n",
    "\n",
    "total_saccer.to_csv(output, columns=['fixed_chr', 'pos-1', 'pos', 'sample'], \n",
    "             sep ='\\t', header = False, index=False, compression='gzip')"
   ]
  },
  {
   "cell_type": "markdown",
   "metadata": {},
   "source": [
    "Converto to sacCer3 and format output"
   ]
  },
  {
   "cell_type": "code",
   "execution_count": null,
   "metadata": {
    "collapsed": true
   },
   "outputs": [],
   "source": [
    "%%bash --out output3 --err error3\n",
    "\n",
    "cd cerevisiae\n",
    "\n",
    "source activate env_crossmap\n",
    "CrossMap.py bed sacCer2ToSacCer3.over.chain.gz DNase-seq_saccer2.bed.gz DNase-seq_saccer3.bed\n",
    "gzip -f DNase-seq_saccer3.bed\n",
    "\n",
    "zcat DNase-seq_saccer3.bed.gz | awk '{OFS=\"\\t\"}{print $1, $3, \"-\", \"-\", $4}' | gzip > dnase.tsv.gz"
   ]
  },
  {
   "cell_type": "markdown",
   "metadata": {
    "collapsed": true
   },
   "source": [
    "Compute relative increase of mutation rate (the results are in the ``increase`` folder)."
   ]
  },
  {
   "cell_type": "code",
   "execution_count": null,
   "metadata": {
    "collapsed": true
   },
   "outputs": [],
   "source": [
    "%%bash --out output4 --err error4\n",
    "\n",
    "source activate env_nucperiod\n",
    "\n",
    "increase_scripts=${PWD}/../increase/scripts\n",
    "increase=${PWD}/../increase/cerevisiae\n",
    "mapping=${PWD}/../nucleosomes/cerevisiae\n",
    "\n",
    "cd cerevisiae\n",
    "\n",
    "bash ${increase_scripts}/increase.sh dnase.tsv.gz zoomin saccer3 5 ${mapping}/dyads.bed.gz \\\n",
    "    ${increase}/saccer3_5mer_counts.json.gz increase"
   ]
  },
  {
   "cell_type": "code",
   "execution_count": null,
   "metadata": {
    "collapsed": true
   },
   "outputs": [],
   "source": []
  }
 ],
 "metadata": {
  "kernelspec": {
   "display_name": "Python [conda env:env_nucperiod]",
   "language": "python",
   "name": "conda-env-env_nucperiod-py"
  },
  "language_info": {
   "codemirror_mode": {
    "name": "ipython",
    "version": 3
   },
   "file_extension": ".py",
   "mimetype": "text/x-python",
   "name": "python",
   "nbconvert_exporter": "python",
   "pygments_lexer": "ipython3",
   "version": "3.5.6"
  },
  "toc": {
   "nav_menu": {},
   "number_sections": true,
   "sideBar": true,
   "skip_h1_title": false,
   "title_cell": "Table of Contents",
   "title_sidebar": "Contents",
   "toc_cell": false,
   "toc_position": {},
   "toc_section_display": true,
   "toc_window_display": false
  }
 },
 "nbformat": 4,
 "nbformat_minor": 2
}
