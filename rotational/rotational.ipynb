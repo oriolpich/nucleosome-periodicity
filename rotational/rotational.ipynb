{
 "cells": [
  {
   "cell_type": "markdown",
   "metadata": {},
   "source": [
    "# Rotational positioning\n",
    "\n",
    "The goal is to classify the nucleosomes by the strengh of rotational signal defined as the ratio of the number of reads mapping to rotationally outward positions compared to the total number of reads mapping within the dyad.\n",
    "\n",
    "This analysis have been performed for two species:\n",
    "\n",
    "- [H. sapiens](#human)\n",
    "- [A. thaliana](#thali)\n",
    "\n",
    "To be able to run this notebook it is required to run previously the ones in the following folders: nucleosomes. In addition, some external data needs to be downloaded. In each section you can find further details."
   ]
  },
  {
   "cell_type": "markdown",
   "metadata": {},
   "source": [
    "## H. sapiens <a id=\"human\"></a>\n",
    "\n",
    "For H. sapiens two files have been computed according to the rotational possitioning of the nucleosomes:\n",
    "``low_rotational_dyads.bed.gz`` and ``high_rotational_dyads.bed.gz`` (which is equal to the dyads with score 1)."
   ]
  },
  {
   "cell_type": "markdown",
   "metadata": {
    "collapsed": true
   },
   "source": [
    "Perform a liftover from hg18 to hg19 and intersect with the final nucleosomes."
   ]
  },
  {
   "cell_type": "code",
   "execution_count": null,
   "metadata": {
    "collapsed": true
   },
   "outputs": [],
   "source": [
    "%%bash --out output1 --err error1\n",
    "\n",
    "mapping=${PWD}/../nucleosomes/sapiens\n",
    "\n",
    "mkdir -p sapiens\n",
    "cd sapiens\n",
    "\n",
    "# Do the lift\n",
    "source activate env_crossmap\n",
    "CrossMap.py bed ${mapping}/hg18ToHg19.over.chain.gz ${mapping}/mnase_mids_combined_147.bed.gz \\\n",
    "    mnase_mids_combined_147_hg19_unsorted.bed\n",
    "gzip -f mnase_mids_combined_147_hg19_unsorted.bed\n",
    "source deactivate\n",
    "source activate env_nucperiod\n",
    "\n",
    "zcat mnase_mids_combined_147_hg19_unsorted.bed.gz | sort -k1,1 -k2,2n | \\\n",
    "    gzip > mnase_mids_combined_147_hg19.bed.gz\n",
    "\n",
    "zcat ${mapping}/dyads.bed.gz | \\\n",
    "    awk '{OFS=\"\\t\"}{print $1, $2-58, $3+58, $1 \"_\" $2 \"_\" $3, $2, $3}' | \\\n",
    "    intersectBed -a stdin -b  mnase_mids_combined_147_hg19.bed.gz -wo -sorted |\n",
    "    gzip > intersected_dyads_midpoints.tsv.gz"
   ]
  },
  {
   "cell_type": "markdown",
   "metadata": {},
   "source": [
    "Classify the nucleosomes."
   ]
  },
  {
   "cell_type": "code",
   "execution_count": null,
   "metadata": {
    "collapsed": true
   },
   "outputs": [],
   "source": [
    "from os import path\n",
    "\n",
    "import pandas as pd\n",
    "\n",
    "from scripts.utils import annotate_midpoints\n",
    "\n",
    "ws=\"sapiens\"\n",
    "mapping_ws=\"../mapping/data/sapiens\"\n",
    "\n",
    "midpoints = path.join(ws, 'intersected_dyads_midpoints.tsv.gz')\n",
    "nucleosomes = path.join(mapping_ws, 'dyads.bed.gz')\n",
    "\n",
    "output_cols = ['chr', 'pos1', 'pos2', 'score_rot', 'reads_in', 'total_reads']\n",
    "\n",
    "df_midpoints = pd.read_csv(midpoints, sep='\\t',\n",
    "                 names=['chr', 'start', 'end', 'ID', 's1', 'e1', 'chr2', 'bedpos', 'pos2', 'id2', 'reads', 'overlapp'])\n",
    "\n",
    "df = annotate_midpoints(df_midpoints)\n",
    "\n",
    "# get those nucleosomes with rotational score equal to 1\n",
    "length_high = len(df[df['score_rot'] == 1])\n",
    "\n",
    "# sort values by score\n",
    "df.sort_values(by='score_rot', ascending=True, inplace=True)\n",
    "\n",
    "# get the low-high rotational scores\n",
    "df.iloc[0:length_high].sort_values(by=['chr', 'pos2']).to_csv(\n",
    "    path.join(ws, 'low_rotational_dyads.bed.gz'),\n",
    "    sep='\\t', index=False,\n",
    "    header=False,\n",
    "    compression='gzip',\n",
    "    columns=output_cols)\n",
    "df[df['score_rot'] == 1].sort_values(by=['chr', 'pos2']).to_csv(\n",
    "    path.join(ws, 'high_rotational_dyads.bed.gz'),\n",
    "    sep='\\t', index=False,\n",
    "    header=False, compression='gzip',\n",
    "    columns=output_cols)"
   ]
  },
  {
   "cell_type": "markdown",
   "metadata": {
    "collapsed": true
   },
   "source": [
    "## A. Thaliana <a id=\"thali\"></a>\n",
    "\n",
    "For A. thaliana we have only computed the nucleosomes with roatational score equals to 1 (``score1_rotational_dyads.bed.gz``). Note that we have used as input the nucleosomes before filtering the ones in genic regions."
   ]
  },
  {
   "cell_type": "code",
   "execution_count": null,
   "metadata": {
    "collapsed": true
   },
   "outputs": [],
   "source": [
    "%%bash --out output2 --err error2\n",
    "\n",
    "source activate env_nucperiod\n",
    "mapping=${PWD}/../nucleosomes/thaliana\n",
    "\n",
    "mkdir -p thaliana\n",
    "cd thaliana\n",
    "\n",
    "zcat ${mapping}/SRR1536143_dyads.bed.gz |sort -k1,1 -k2,2n |\\\n",
    "    gzip > SRR1536143_dyads_sorted.bed.gz\n",
    "    \n",
    "zcat ${mapping}/SRR1536143_dyads_stringency.bed.gz | sort -k1,1 -k2,2n |\\\n",
    "    gzip > SRR1536143_dyads_stringency_sorted.bed.gz\n",
    "\n",
    "zcat SRR1536143_dyads_stringency_sorted.bed.gz | \\\n",
    "    awk '{OFS=\"\\t\"}{print $1, $2-58, $3+58, $1 \"_\" $2 \"_\" $3, $2, $3}' |\\\n",
    "    intersectBed -a stdin -b  SRR1536143_dyads_sorted.bed.gz -wo -sorted |\\\n",
    "    gzip > intersected_dyads_midpoints_all.tsv.gz"
   ]
  },
  {
   "cell_type": "markdown",
   "metadata": {},
   "source": [
    "Classify the nucleosomes."
   ]
  },
  {
   "cell_type": "code",
   "execution_count": null,
   "metadata": {
    "collapsed": true
   },
   "outputs": [],
   "source": [
    "from os import path\n",
    "\n",
    "import pandas as pd\n",
    "\n",
    "from scripts.utils import annotate_midpoints\n",
    "\n",
    "ws=\"thaliana\"\n",
    "midpoints = path.join(ws, 'intersected_dyads_midpoints_all.tsv.gz')\n",
    "\n",
    "output_cols = ['chr', 'pos1', 'pos2', 'score_rot', 'reads_in', 'total_reads']\n",
    "\n",
    "df_midpoints = pd.read_csv(midpoints, sep='\\t',\n",
    "                 names=['chr', 'start', 'end', 'ID', 's1', 'e1', 'chr2', 'bedpos', 'pos2', 'reads', 'overlapp'])\n",
    "df = annotate_midpoints(df_midpoints)\n",
    "\n",
    "# get those nucleosomes with rotational score equal to 1\n",
    "length_high = len(df[df['score_rot'] == 1])\n",
    "\n",
    "# sort values by score\n",
    "df.sort_values(by='score_rot', ascending=True, inplace=True)\n",
    "\n",
    "df[df['score_rot'] == 1].sort_values(by=['chr', 'pos2']).to_csv(\n",
    "    path.join(ws, 'score1_rotational_dyads.gz'),\n",
    "    sep='\\t', index=False,\n",
    "    header=False, compression='gzip',\n",
    "    columns=output_cols)"
   ]
  },
  {
   "cell_type": "code",
   "execution_count": null,
   "metadata": {
    "collapsed": true
   },
   "outputs": [],
   "source": []
  }
 ],
 "metadata": {
  "kernelspec": {
   "display_name": "Python [conda env:env_nucperiod]",
   "language": "python",
   "name": "conda-env-env_nucperiod-py"
  },
  "language_info": {
   "codemirror_mode": {
    "name": "ipython",
    "version": 3
   },
   "file_extension": ".py",
   "mimetype": "text/x-python",
   "name": "python",
   "nbconvert_exporter": "python",
   "pygments_lexer": "ipython3",
   "version": "3.5.6"
  },
  "toc": {
   "nav_menu": {},
   "number_sections": true,
   "sideBar": true,
   "skip_h1_title": false,
   "title_cell": "Table of Contents",
   "title_sidebar": "Contents",
   "toc_cell": false,
   "toc_position": {},
   "toc_section_display": true,
   "toc_window_display": false
  }
 },
 "nbformat": 4,
 "nbformat_minor": 2
}
