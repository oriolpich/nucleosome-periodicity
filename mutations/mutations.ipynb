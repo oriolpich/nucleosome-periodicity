{
 "cells": [
  {
   "cell_type": "markdown",
   "metadata": {},
   "source": [
    "# Somatic mutations\n",
    "\n",
    "We have analysed mutations in H. sapiens from 5 different sources:\n",
    "\n",
    "- [ICGC](#icgc)\n",
    "- [TCGA](#tcga)\n",
    "- [TCGA PanCanAtlas](#pancanatlas)\n",
    "- [Normal eyelid skin](#eyelid)\n",
    "- [XPC wildtype and XPC mutant](#xpc)\n",
    "\n",
    "To be able to run this notebook it is required to run previously the ones in the following folders: nucleosomes, rotational and increase. In addition, some external data needs to be downloaded. In each section you can find further details."
   ]
  },
  {
   "cell_type": "markdown",
   "metadata": {},
   "source": [
    "## ICGC <a id=\"icgc\"></a>\n",
    "\n",
    "Create a folder named **icgc** and place the whole genome mutational files.\n",
    "In this work have used ICGC release 26.\n",
    "\n",
    "The names of the downloaded files follow this nomenclature: ``simple_somatic_mutation.open.[COHORT]-[COUNTRY].tsv.gz``"
   ]
  },
  {
   "cell_type": "markdown",
   "metadata": {},
   "source": [
    "Get only the mutations of interest and save the results in the ``cohort`` folder. In addition, the files are splitted into one mutation file per sample and saved in the ``samples`` directory."
   ]
  },
  {
   "cell_type": "code",
   "execution_count": null,
   "metadata": {
    "collapsed": true
   },
   "outputs": [],
   "source": [
    "%%bash --out output1 --err error1\n",
    "\n",
    "source activate env_nucperiod\n",
    "scripts=${PWD}/scripts\n",
    "\n",
    "cd icgc\n",
    "\n",
    "cohort=cohorts\n",
    "samples=samples\n",
    "\n",
    "mkdir -p ${cohort}\n",
    "mkdir -p ${samples}\n",
    "\n",
    "# Filter files to get only mutations form whole genome sequencing and mapped to GRCh37\n",
    "for file in simple_somatic_mutation.open.*.tsv.gz\n",
    "do\n",
    "    name=$(basename ${file})\n",
    "    name=\"${name/simple_somatic_mutation.open./}\"\n",
    "    zcat ${file} | grep -w WGS | grep -w GRCh37 | \\\n",
    "        awk -F \"\\t\" 'BEGIN{OFS=\"\\t\";}{if (length($16)==1 && length($17)==1 && $16!=\"-\" && $17!=\"-\")  print \"chr\"$9,$10,$16,$17,$2}' | \\\n",
    "        sort | uniq | gzip > ${cohort}/${name}\n",
    "    \n",
    "done\n",
    "# remove empty files\n",
    "for file in ${cohort}/*.tsv.gz\n",
    "do\n",
    "  x=`zcat ${file} | wc -l`\n",
    "  if [ $x == 0 ]\n",
    "  then\n",
    "      rm ${file}\n",
    "  fi\n",
    "done\n",
    "\n",
    "# Create a mutation file for each sample\n",
    "python ${scripts}/samples.py ${cohort} ${samples}"
   ]
  },
  {
   "cell_type": "markdown",
   "metadata": {
    "collapsed": true
   },
   "source": [
    "Compute the relative increase of mutation rate of the cohorts:\n",
    "\n",
    "- zoomin: zoomin analysis using all nucleosomes\n",
    "- zoomin_rot_high: zoomin analysis using high rotational nucleosomes\n",
    "- zoomin_rot_low: zoomin analysis using low rotational nucleosomes\n",
    "- zoomin_no_nuc: zoomin analysis # TODO\n",
    "- zoomin_3mer: zoomin analysis using all nucleosomes and the 3-mer context\n",
    "\n",
    "- zoomout: zoomout analysis using all nucleosomes\n",
    "- zoomout_rot_high: zoomout analysis using high rotational nucleosomes\n",
    "- zoomout_rot_low: zoomout analysis using low rotational nucleosomes\n",
    "- zoomout_no_nuc: zoomout analysis # TODO\n",
    "- zoomout_3mer: zoomout analysis using all nucleosomes and the 3-mer context"
   ]
  },
  {
   "cell_type": "code",
   "execution_count": null,
   "metadata": {
    "collapsed": true
   },
   "outputs": [],
   "source": [
    "%%bash --out output2 --err error2\n",
    "# TODO remove\n",
    "\n",
    "source activate env_nucperiod\n",
    "\n",
    "increase_scripts=${PWD}/../increase/scripts\n",
    "increase=${PWD}/../increase/sapiens\n",
    "mapping=${PWD}/../nucleosomes/sapiens\n",
    "rotational=${PWD}/../rotational/sapiens\n",
    "\n",
    "cd icgc/cohorts\n",
    "\n",
    "for file in *.tsv.gz\n",
    "do\n",
    "\n",
    "    f=$(basename $file)\n",
    "    name=${f/.tsv.gz/}\n",
    "\n",
    "    # Zoomin\n",
    "    bash ${increase_scripts}/increase.sh ${file} zoomin hg19 5 ${mapping}/dyads.bed.gz \\\n",
    "        ${increase}/hg19_filtered_5mer_counts.json.gz increase_zoomin/${name}\n",
    "    # Rotational high zoomin\n",
    "    bash ${increase_scripts}/increase.sh ${file} zoomin hg19 5 ${rotational}/high_rotational_dyads.bed.gz \\\n",
    "        ${increase}/hg19_filtered_5mer_counts.json.gz increase_zoomin_rot_high/${name}\n",
    "    # Rotational low zoomin\n",
    "    bash ${increase_scripts}/increase.sh ${file} zoomin hg19 5 ${rotational}/low_rotational_dyads.bed.gz \\\n",
    "        ${increase}/hg19_filtered_5mer_counts.json.gz increase_zoomin_rot_low/${name}\n",
    "    # No nucleosomes context zoomin\n",
    "    bash ${increase_scripts}/increase_no_context.sh ${file} zoomin hg19 5 ${mapping}/dyads.bed.gz \\\n",
    "        ${increase}/hg19_filtered_nodyads_5mer_counts.json.gz ${increase}/nodyads.bed.gz \\\n",
    "        increase_zoomin_linker/${name}\n",
    "    # Zoomin 3-mer\n",
    "    bash ${increase_scripts}/increase.sh ${file} zoomin hg19 3 ${mapping}/dyads.bed.gz \\\n",
    "        ${increase}/hg19_filtered_3mer_counts.json.gz increase_zoomin_3mer/${name}\n",
    "        \n",
    "    # Zoomout\n",
    "    bash ${increase_scripts}/increase.sh ${file} zoomout hg19 5 ${mapping}/dyads.bed.gz \\\n",
    "        ${increase}/hg19_5mer_counts.json.gz increase_zoomout/${name} ${increase}/closer_dyads.npy\n",
    "    # No nucleosomes context zoomout\n",
    "    bash ${increase_scripts}/increase_no_context.sh ${file} zoomout hg19 5 ${mapping}/dyads.bed.gz \\\n",
    "        ${increase}/hg19_filtered_nodyads_5mer_counts.json.gz ${increase}/nodyads.bed.gz \\\n",
    "        increase_zoomout_linker/${name} ${increase}/closer_dyads.npy\n",
    "    # Zoomout 3-mer\n",
    "    bash ${increase_scripts}/increase.sh ${file} zoomout hg19 3 ${mapping}/dyads.bed.gz \\\n",
    "        ${increase}/hg19_3mer_counts.json.gz increase_zoomout_3mer/${name} ${increase}/closer_dyads.npy\n",
    "        \n",
    "done"
   ]
  },
  {
   "cell_type": "markdown",
   "metadata": {},
   "source": [
    "Compute the relative increase of mutation rate of the samples."
   ]
  },
  {
   "cell_type": "code",
   "execution_count": null,
   "metadata": {
    "collapsed": true
   },
   "outputs": [],
   "source": [
    "%%bash --out output3 --err error3\n",
    "\n",
    "source activate env_nucperiod\n",
    "\n",
    "increase_scripts=${PWD}/../increase/scripts\n",
    "increase=${PWD}/../increase/sapiens\n",
    "mapping=${PWD}/../nucleosomes/sapiens\n",
    "\n",
    "cd icgc/samples\n",
    "\n",
    "for ctype in $(find . -maxdepth 1 -mindepth 1 -type d)\n",
    "do\n",
    "    \n",
    "    for file in ${ctype}/*.tsv.gz\n",
    "    do\n",
    "    \n",
    "        if [ ! -f ${file} ]\n",
    "        then\n",
    "            continue\n",
    "        fi\n",
    "\n",
    "        f=$(basename $file)\n",
    "        name=${f/.tsv.gz/}\n",
    "\n",
    "        # Zoomin\n",
    "        bash ${increase_scripts}/increase_samples.sh ${file} zoomin hg19 5 ${mapping}/dyads.bed.gz \\\n",
    "            ${increase}/hg19_filtered_5mer_counts.json.gz increase/${ctype}/${name}\n",
    "      \n",
    "      done  \n",
    "done"
   ]
  },
  {
   "cell_type": "markdown",
   "metadata": {},
   "source": [
    "## TCGA <a id=\"tcga\"></a>\n",
    "\n",
    "Create a folder named **tcga** and place inside the 505 samples version 3 file named as ``mutations.tsv.gz``."
   ]
  },
  {
   "cell_type": "markdown",
   "metadata": {},
   "source": [
    "Get only the mutations of interest and save the results in the ``cohort`` folder. In addition, the files are splitted into one mutation file per sample and saved in the ``samples`` directory."
   ]
  },
  {
   "cell_type": "code",
   "execution_count": null,
   "metadata": {
    "collapsed": true
   },
   "outputs": [],
   "source": [
    "%%bash --out output4 --err error4\n",
    "\n",
    "source activate env_nucperiod\n",
    "\n",
    "scripts=${PWD}/scripts\n",
    "\n",
    "cd tcga\n",
    "cohort=cohorts\n",
    "samples=samples\n",
    "\n",
    "mkdir -p ${cohort}\n",
    "mkdir -p ${samples}\n",
    "\n",
    "\n",
    "for ctype in $(zcat mutations.tsv.gz | cut -f2 | sort -u | grep -v cancer)\n",
    "do\n",
    "    zcat mutations.tsv.gz | \\\n",
    "        awk -v ctype=${ctype} 'BEGIN{OFS=\"\\t\";}{if($2==ctype && length($5)==1 && length($6)==1 && ($6 !~ /[+-]/)){print \"chr\"$3,$4,$5,$6,$1}}' | \\\n",
    "        gzip -c > ${cohort}/${ctype}.tsv.gz\n",
    "done\n",
    "\n",
    "# Create a mutation file for each sample\n",
    "python ${scripts}/samples.py ${cohort} ${samples}"
   ]
  },
  {
   "cell_type": "markdown",
   "metadata": {
    "collapsed": true
   },
   "source": [
    "Compute the relative increase of mutation rate for the cohorts:\n",
    "\n",
    "- zoomin: zoomin analysis using all nucleosomes\n",
    "- zoomin_rot_high: zoomin analysis using high rotational nucleosomes\n",
    "- zoomin_rot_low: zoomin analysis using low rotational nucleosomes\n",
    "- zoomin_no_nuc: zoomin analysis # TODO\n",
    "- zoomin_3mer: zoomin analysis using all nucleosomes and the 3-mer context\n",
    "\n",
    "- zoomout: zoomout analysis using all nucleosomes\n",
    "- zoomout_rot_high: zoomout analysis using high rotational nucleosomes\n",
    "- zoomout_rot_low: zoomout analysis using low rotational nucleosomes\n",
    "- zoomout_no_nuc: zoomout analysis # TODO\n",
    "- zoomout_3mer: zoomout analysis using all nucleosomes and the 3-mer context"
   ]
  },
  {
   "cell_type": "code",
   "execution_count": null,
   "metadata": {
    "collapsed": true
   },
   "outputs": [],
   "source": [
    "%%bash --out output5 --err error5\n",
    "\n",
    "source activate env_nucperiod\n",
    "\n",
    "increase_scripts=${PWD}/../increase/scripts\n",
    "increase=${PWD}/../increase/sapiens\n",
    "mapping=${PWD}/../nucleosomes/sapiens\n",
    "rotational=${PWD}/../rotational/sapiens\n",
    "\n",
    "cd tcga/cohorts\n",
    "\n",
    "for file in *.tsv.gz\n",
    "do\n",
    "\n",
    "    f=$(basename $file)\n",
    "    name=${f/.tsv.gz/}\n",
    "    \n",
    "    # Zoomin\n",
    "    bash ${increase_scripts}/increase.sh ${file} zoomin hg19 5 ${mapping}/dyads.bed.gz \\\n",
    "        ${increase}/hg19_filtered_5mer_counts.json.gz increase_zoomin/${name}\n",
    "    # Rotational high zoomin\n",
    "    bash ${increase_scripts}/increase.sh ${file} zoomin hg19 5 ${rotational}/high_rotational_dyads.bed.gz \\\n",
    "        ${increase}/hg19_filtered_5mer_counts.json.gz increase_zoomin_rot_high/${name}\n",
    "    # Rotational low zoomin\n",
    "    bash ${increase_scripts}/increase.sh ${file} zoomin hg19 5 ${rotational}/low_rotational_dyads.bed.gz \\\n",
    "        ${increase}/hg19_filtered_5mer_counts.json.gz increase_zoomin_rot_low/${name}\n",
    "    # No nucleosomes context zoomin\n",
    "    bash ${increase_scripts}/increase_no_context.sh ${file} zoomin hg19 5 ${mapping}/dyads.bed.gz \\\n",
    "        ${increase}/hg19_filtered_nodyads_5mer_counts.json.gz ${increase}/nodyads.bed.gz \\\n",
    "        increase_zoomin_linker/${name}\n",
    "    # Zoomin 3-mer\n",
    "    bash ${increase_scripts}/increase.sh ${file} zoomin hg19 3 ${mapping}/dyads.bed.gz \\\n",
    "        ${increase}/hg19_filtered_3mer_counts.json.gz increase_zoomin_3mer/${name}\n",
    "        \n",
    "    # Zoomout\n",
    "    bash ${increase_scripts}/increase.sh ${file} zoomout hg19 5 ${mapping}/dyads.bed.gz \\\n",
    "        ${increase}/hg19_5mer_counts.json.gz increase_zoomout/${name} ${increase}/closer_dyads.npy\n",
    "    # No nucleosomes context zoomout\n",
    "    bash ${increase_scripts}/increase_no_context.sh ${file} zoomout hg19 5 ${mapping}/dyads.bed.gz \\\n",
    "        ${increase}/hg19_filtered_nodyads_5mer_counts.json.gz ${increase}/nodyads.bed.gz \\\n",
    "        increase_zoomout_linker/${name} ${increase}/closer_dyads.npy\n",
    "    # Zoomout 3-mer\n",
    "    bash ${increase_scripts}/increase.sh ${file} zoomout hg19 3 ${mapping}/dyads.bed.gz \\\n",
    "        ${increase}/hg19_3mer_counts.json.gz increase_zoomout_3mer/${name} ${increase}/closer_dyads.npy\n",
    "        \n",
    "done"
   ]
  },
  {
   "cell_type": "markdown",
   "metadata": {},
   "source": [
    "Compute the relative increase of mutation rate of the samples."
   ]
  },
  {
   "cell_type": "code",
   "execution_count": null,
   "metadata": {
    "collapsed": true
   },
   "outputs": [],
   "source": [
    "%%bash --out output6 --err error6\n",
    "\n",
    "source activate env_nucperiod\n",
    "\n",
    "increase_scripts=${PWD}/../increase/scripts\n",
    "increase=${PWD}/../increase/sapiens\n",
    "mapping=${PWD}/../nucleosomes/sapiens\n",
    "\n",
    "cd tcga/samples\n",
    "\n",
    "for ctype in $(find . -maxdepth 1 -mindepth 1 -type d)\n",
    "do\n",
    "    \n",
    "    for file in ${ctype}/*.tsv.gz\n",
    "    do\n",
    "    \n",
    "        if [ ! -f ${file} ]\n",
    "        then\n",
    "            continue\n",
    "        fi\n",
    "\n",
    "        f=$(basename $file)\n",
    "        name=${f/.tsv.gz/}\n",
    "\n",
    "        # Zoomin\n",
    "        bash ${increase_scripts}/increase_samples.sh ${file} zoomin hg19 5 ${mapping}/dyads.bed.gz \\\n",
    "            ${increase}/hg19_filtered_5mer_counts.json.gz increase/${ctype}/${name}\n",
    "      \n",
    "      done  \n",
    "done"
   ]
  },
  {
   "cell_type": "markdown",
   "metadata": {},
   "source": [
    "## PanCanAtlas <a id=\"pancanatlas\"></a>\n",
    "\n",
    "Create a folder named **pancanatlas** and\n",
    "place inside:\n",
    "\n",
    "- [Mutations](https://api.gdc.cancer.gov/data/1c8cfe5f-e52d-41ba-94da-f15ea1337efc)  from\n",
    "  https://gdc.cancer.gov/about-data/publications/pancanatlas\n",
    "\n",
    "- [Clinical data](https://api.gdc.cancer.gov/data/1b5f413e-a8d1-4d10-92eb-7c4ae739ed81) from\n",
    "  https://gdc.cancer.gov/about-data/publications/pancanatlas"
   ]
  },
  {
   "cell_type": "markdown",
   "metadata": {},
   "source": [
    "Split the file into a single file per cancer type."
   ]
  },
  {
   "cell_type": "code",
   "execution_count": null,
   "metadata": {
    "collapsed": true,
    "scrolled": true
   },
   "outputs": [],
   "source": [
    "import os\n",
    "import pandas as pd\n",
    "\n",
    "ws = 'pancanatlas'\n",
    "\n",
    "clinical_data = pd.read_excel(os.path.join(ws, 'TCGA-CDR-SupplementalTableS1.xlsx'), \n",
    "                              sheet_name='TCGA-CDR',\n",
    "                              usecols=[1,2])\n",
    "mutations = pd.read_csv(os.path.join(ws, 'mc3.v0.2.8.PUBLIC.maf.gz'), \n",
    "                        sep='\\t', \n",
    "                        usecols=['Chromosome','Start_Position', 'FILTER', 'Variant_Type', 'Reference_Allele', 'Tumor_Seq_Allele1', 'Tumor_Seq_Allele2', 'Tumor_Sample_Barcode'],\n",
    "                        dtype={'Chromosome': str})\n",
    "pass_snp = mutations[(mutations['FILTER'] == 'PASS') & (mutations['Variant_Type']=='SNP')].copy()\n",
    "pass_snp['SAMPLE'] = pass_snp['Tumor_Sample_Barcode'].str.split('-').apply(lambda x: '{}-{}-{}{:.0}{:.0}{:.0}{:.0}'.format(*x))\n",
    "data = pass_snp.merge(clinical_data, left_on='SAMPLE', right_on='bcr_patient_barcode')\n",
    "data['Alt'] = data.apply(lambda x: x['Tumor_Seq_Allele2'] if x['Tumor_Seq_Allele2'] != x['Reference_Allele'] else x['Tumor_Seq_Allele1'], axis=1)\n",
    "data['Chromosome'] = \"chr\" + data['Chromosome']\n",
    "for name, group in data.groupby('type'):\n",
    "    print(name)\n",
    "    group.to_csv(os.path.join(ws, '{}.tsv.gz'.format(name)), compression='gzip', index=False, header=False, sep='\\t',\n",
    "                columns=['Chromosome', 'Start_Position', 'Reference_Allele', 'Alt', 'SAMPLE'])"
   ]
  },
  {
   "cell_type": "markdown",
   "metadata": {},
   "source": [
    "## Eyelid <a id=\"eyelid\"></a>\n",
    "\n",
    "Create a folder named **eyelid** and place the *eyelid.txt.gz* file inside."
   ]
  },
  {
   "cell_type": "markdown",
   "metadata": {},
   "source": [
    "Parse and format the file."
   ]
  },
  {
   "cell_type": "code",
   "execution_count": null,
   "metadata": {
    "collapsed": true
   },
   "outputs": [],
   "source": [
    "%%bash --out output7 --err error7\n",
    "\n",
    "source activate env_nucperiod\n",
    "cd eyelid\n",
    "\n",
    "zcat eyelid.txt.gz | awk '{OFS=\"\\t\";}{print $1,$3,$4,$5,$6}' |\\\n",
    "    gzip > eyelid.tsv.gz"
   ]
  },
  {
   "cell_type": "markdown",
   "metadata": {},
   "source": [
    "Compute relative increase in mutation rate"
   ]
  },
  {
   "cell_type": "code",
   "execution_count": null,
   "metadata": {
    "collapsed": true
   },
   "outputs": [],
   "source": [
    "%%bash --out output8 --err error8\n",
    "\n",
    "source activate env_nucperiod\n",
    "\n",
    "increase_scripts=${PWD}/../increase/scripts\n",
    "increase=${PWD}/../increase/sapiens\n",
    "mapping=${PWD}/../nucleosomes/sapiens\n",
    "\n",
    "cd eyelid\n",
    "\n",
    "bash ${increase_scripts}/increase.sh eyelid.tsv.gz zoomin hg19 5 ${mapping}/dyads.bed.gz \\\n",
    "    ${increase}/hg19_filtered_5mer_counts.json.gz increase"
   ]
  },
  {
   "cell_type": "markdown",
   "metadata": {},
   "source": [
    "## XPC <a id=\"xpc\"></a>"
   ]
  },
  {
   "cell_type": "markdown",
   "metadata": {},
   "source": [
    "Create a folder named **xpc** and inside two subfolders named *mutant* and *wild* and place inside the corresponding *.snp* files for the XPC wild-type and XPC-mutant tumors."
   ]
  },
  {
   "cell_type": "markdown",
   "metadata": {},
   "source": [
    "Parse the files."
   ]
  },
  {
   "cell_type": "code",
   "execution_count": null,
   "metadata": {
    "collapsed": true
   },
   "outputs": [],
   "source": [
    "%%bash\n",
    "\n",
    "cd xpc\n",
    "\n",
    "# read the varscan output and extract somatic mutations (with allele frequency >=0.2 and p-value <0.01 as used in Fredrisksson et al)\n",
    "for i in $(ls wild/*.snp)\n",
    "do \n",
    "    name=`echo $i | awk -F\"/\" '{print $NF}' | cut -d \".\" -f1`\n",
    "    grep Somatic $i | \\\n",
    "    awk -v var=$name 'BEGIN{OFS=\"\\t\";}{vaf=$10/($9+$10);if(vaf>=0.2 && $15<0.01){print \"chr\"$1,$2,$3,$4,var}}'\n",
    "done | sort -k1,1 -k2,2n | gzip > XPC_wt.tsv.gz\n",
    "\n",
    "for i in $(ls mutant/*.snp)\n",
    "do \n",
    "    name=`echo $i | awk -F\"/\" '{print $NF}' | cut -d \".\" -f1`\n",
    "    grep Somatic $i | \\\n",
    "    awk -v var=$name 'BEGIN{OFS=\"\\t\";}{vaf=$10/($9+$10);if(vaf>=0.2 && $15<0.01){print \"chr\"$1,$2,$3,$4,var}}'\n",
    "done |  sort -k1,1 -k2,2n | gzip > XPC_mutant.tsv.gz"
   ]
  },
  {
   "cell_type": "markdown",
   "metadata": {
    "collapsed": true
   },
   "source": [
    "Compute the relative increase of mutation rate."
   ]
  },
  {
   "cell_type": "code",
   "execution_count": null,
   "metadata": {
    "collapsed": true
   },
   "outputs": [],
   "source": [
    "%%bash --out output7 --err error7\n",
    "\n",
    "source activate env_nucperiod\n",
    "\n",
    "increase_scripts=${PWD}/../increase/scripts\n",
    "increase=${PWD}/../increase/sapiens\n",
    "mapping=${PWD}/../nucleosomes/sapiens\n",
    "\n",
    "cd xpc\n",
    "\n",
    "bash ${increase_scripts}/increase.sh XPC_wt.tsv.gz zoomin hg19 5 ${mapping}/dyads.bed.gz \\\n",
    "    ${increase}/hg19_filtered_5mer_counts.json.gz increase_wt\n",
    "    \n",
    "bash ${increase_scripts}/increase.sh XPC_mutant.tsv.gz zoomin hg19 5 ${mapping}/dyads.bed.gz \\\n",
    "    ${increase}/hg19_filtered_5mer_counts.json.gz increase_mutant\n",
    "    \n",
    "bash ${increase_scripts}/increase.sh XPC_wt.tsv.gz zoomout hg19 5 ${mapping}/dyads.bed.gz \\\n",
    "    ${increase}/hg19_5mer_counts.json.gz increase_wt_zoomout ${increase}/closer_dyads.npy\n",
    "    \n",
    "bash ${increase_scripts}/increase.sh XPC_mutant.tsv.gz zoomout hg19 5 ${mapping}/dyads.bed.gz \\\n",
    "    ${increase}/hg19_5mer_counts.json.gz increase_mutant_zoomout ${increase}/closer_dyads.npy"
   ]
  },
  {
   "cell_type": "code",
   "execution_count": null,
   "metadata": {
    "collapsed": true
   },
   "outputs": [],
   "source": []
  }
 ],
 "metadata": {
  "kernelspec": {
   "display_name": "Python [conda env:env_nucperiod]",
   "language": "python",
   "name": "conda-env-env_nucperiod-py"
  },
  "language_info": {
   "codemirror_mode": {
    "name": "ipython",
    "version": 3
   },
   "file_extension": ".py",
   "mimetype": "text/x-python",
   "name": "python",
   "nbconvert_exporter": "python",
   "pygments_lexer": "ipython3",
   "version": "3.5.6"
  },
  "toc": {
   "nav_menu": {},
   "number_sections": true,
   "sideBar": true,
   "skip_h1_title": false,
   "title_cell": "Table of Contents",
   "title_sidebar": "Contents",
   "toc_cell": false,
   "toc_position": {},
   "toc_section_display": true,
   "toc_window_display": false
  }
 },
 "nbformat": 4,
 "nbformat_minor": 2
}
