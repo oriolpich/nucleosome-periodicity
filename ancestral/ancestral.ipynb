{
 "cells": [
  {
   "cell_type": "markdown",
   "metadata": {},
   "source": [
    "# Ancestral states\n",
    "\n",
    "The polarized sites of two species have been analyzed:\n",
    "\n",
    "- [H. sapiens](#human)\n",
    "- [A. thaliana](#thali)\n",
    "\n",
    "\n",
    "To be able to run this notebook it is required to run previously the ones in the following folders: rotational. In addition, some external data needs to be downloaded. In each section you can find further details."
   ]
  },
  {
   "cell_type": "markdown",
   "metadata": {},
   "source": [
    "## H. sapiens <a id=\"human\"></a>\n",
    "\n",
    "\n",
    "Create a folder named **sapiens** and place inside:\n",
    "\n",
    "- The data downloaded from: http://hgdownload.soe.ucsc.edu/goldenPath/hg38/multiz20way/  \n",
    "Note that not all the files are required. Only the maf files.\n",
    "\n",
    "- The chain to perform the hg19 to hg38 liftover,that can be downloaded from http://hgdownload.soe.ucsc.edu/goldenPath/hg19/liftOver/hg19ToHg38.over.chain.gz"
   ]
  },
  {
   "cell_type": "markdown",
   "metadata": {},
   "source": [
    "Compute the polarized sites. The ``polarized_rot_high.tsv.gz`` file contains polarized sites that intersect with nucleosomes of high rotational dyads.\n",
    "\n",
    "---\n",
    "As our data is in hg38 and the nucleosome files are in hg19 we decided to do the liftover for the nucleosome files."
   ]
  },
  {
   "cell_type": "code",
   "execution_count": null,
   "metadata": {
    "collapsed": true
   },
   "outputs": [],
   "source": [
    "%%bash \n",
    "\n",
    "source activate env_nucperiod\n",
    "\n",
    "rotational=${PWD}/../rotational/sapiens\n",
    "scripts=${PWD}/scripts\n",
    "\n",
    "cd sapiens\n",
    "\n",
    "python ${scripts}/sapiens.py maf polarized_unsorted.bed.gz\n",
    "\n",
    "zcat polarized_unsorted.bed.gz | sort -k1,1 -k2,2n | gzip > polarized.bed.gz\n",
    "\n",
    "source deactivate\n",
    "source activate env_crossmap\n",
    "CrossMap.py bed hg19ToHg38.over.chain.gz ${rotational}/high_rotational_dyads.bed.gz rot_high.bed\n",
    "gzip -f rot_high.bed\n",
    "zcat  rot_high.bed.gz |  sort -k1,1 -k2,2n |gzip > dyads_hg38_rot_high.bed.gz\n",
    "source deactivate\n",
    "source activate env_doe\n",
    "\n",
    "# intersect with the nucleosomes\n",
    "zcat dyads_hg38_rot_high.bed.gz | awk '{ OFS=\"\\t\"; }{print $1, $2-73, $3+73, $1 \"_\" $2 \"_\" $3}' | \\\n",
    "    intersectBed -a polarized.bed.gz -b stdin -wo -sorted | \\\n",
    "    awk '{ OFS=\"\\t\";}{ print $9, $2-$7-73, $4, $5}' | \\\n",
    "    gzip > polarized.tsv.gz"
   ]
  },
  {
   "cell_type": "markdown",
   "metadata": {},
   "source": [
    "## A. thaliana <a id=\"thali\"></a>\n",
    "\n",
    "\n",
    "Create a folder named **thaliana** and place inside:\n",
    "\n",
    "- The enome of Brassica Rapa referenced to Thaliana TAIR10 genome downloaded from ftp://ftp.ensemblgenomes.org/pub/plants/release-40/maf/arabidopsis_thaliana_TAIR10_vs_brassica_rapa_IVFCAASv1_lastz_net.tar.gz\n",
    "\n",
    "- The genome of Arabidopsis Lyrata referenced to Thaliana TAIR10 genome downloaded from ftp://ftp.ensemblgenomes.org/pub/plants/release-40/maf/arabidopsis_thaliana_TAIR10_vs_arabidopsis_lyrata_v_1_0_lastz_net.tar.gz\n",
    "\n",
    "\n",
    "Please, extract the files of these tar files before running the notebook."
   ]
  },
  {
   "cell_type": "markdown",
   "metadata": {},
   "source": [
    "Compute the polarized sites (``polarized.tsv.gz``) that intersect with nucleosomes with rotatational score equals to 1."
   ]
  },
  {
   "cell_type": "code",
   "execution_count": null,
   "metadata": {
    "collapsed": true
   },
   "outputs": [],
   "source": [
    "%%bash\n",
    "\n",
    "source activate env_nucperiod\n",
    "\n",
    "rotational=${PWD}/../rotational/thaliana\n",
    "scripts=${PWD}/scripts\n",
    "\n",
    "cd thaliana\n",
    "\n",
    "# Parse the input files to get the sequences\n",
    "python ${scripts}/thaliana.py parse arabidopsis_thaliana_TAIR10_vs_arabidopsis_lyrata_v_1_0_lastz_net arabidopsis_lyrata lyrata_unsorted.bed.gz\n",
    "zcat lyrata_unsorted.bed.gz | sort -k1,1 -k2,2n | gzip > lyrata.bed.gz\n",
    "python ${scripts}/thaliana.py parse arabidopsis_thaliana_TAIR10_vs_brassica_rapa_IVFCAASv1_lastz_net brassica_rapa rapa_unsorted.bed.gz\n",
    "zcat rapa_unsorted.bed.gz | sort -k1,1 -k2,2n | gzip > rapa.bed.gz\n",
    "\n",
    "# Find common sequences\n",
    "intersectBed -a rapa.bed.gz -b lyrata.bed.gz -wo -sorted | gzip > thaliana_rapa_lyrata.intersect.gz\n",
    "\n",
    "zcat thaliana_rapa_lyrata.intersect.gz | awk '{OFS=\"\\t\"}{if($4==$9){print $1, $2, $3, $4, $9, $5}}' | \\\n",
    "    gzip > thaliana_rapa_lyrata.intersect.equal_ancestor.bed.gz\n",
    "\n",
    "# Find polarized sites\n",
    "python ${scripts}/thaliana.py find thaliana_rapa_lyrata.intersect.equal_ancestor.bed.gz polarized.bed.gz\n",
    "\n",
    "# intersect with the nucleosomes\n",
    "zcat ${rotational}/score1_rotational_dyads.gz | \\\n",
    "    awk '{ OFS=\"\\t\"; }{print $1, $2-73, $3+73, $1 \"_\" $2 \"_\" $3}' | \\\n",
    "    intersectBed -a polarized.bed.gz -b stdin -wo -sorted | \\\n",
    "    awk '{ OFS=\"\\t\";}{ print $9, $2-$7-73, $4, $5}' | \\\n",
    "    gzip > polarized.tsv.gz"
   ]
  },
  {
   "cell_type": "code",
   "execution_count": null,
   "metadata": {
    "collapsed": true
   },
   "outputs": [],
   "source": []
  }
 ],
 "metadata": {
  "kernelspec": {
   "display_name": "Python [conda env:env_nucperiod]",
   "language": "python",
   "name": "conda-env-env_nucperiod-py"
  },
  "language_info": {
   "codemirror_mode": {
    "name": "ipython",
    "version": 3
   },
   "file_extension": ".py",
   "mimetype": "text/x-python",
   "name": "python",
   "nbconvert_exporter": "python",
   "pygments_lexer": "ipython3",
   "version": "3.5.6"
  },
  "toc": {
   "nav_menu": {},
   "number_sections": true,
   "sideBar": true,
   "skip_h1_title": false,
   "title_cell": "Table of Contents",
   "title_sidebar": "Contents",
   "toc_cell": false,
   "toc_position": {},
   "toc_section_display": true,
   "toc_window_display": false
  }
 },
 "nbformat": 4,
 "nbformat_minor": 2
}
