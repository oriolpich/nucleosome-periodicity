{
 "cells": [
  {
   "cell_type": "markdown",
   "metadata": {},
   "source": [
    "# Sequence periodicity simulator\n",
    "\n",
    "The simulation consist on mutating a sequence of $10^6$ nucleotides using 6000 step and mutating 100 nucleotides on each step.\n",
    "\n",
    "The output consists of 3 different files:\n",
    "\n",
    "1. The simulation is done using the human spontaneous mutation probabilites and a weight function\n",
    "2. The simulation is done using the human spontaneous mutation probabilites\n",
    "3. The simulation is done using a weight function\n",
    "\n",
    "The output files are named as ``evolver<type>_<seed>.pkl.gz``. You can find them in the ``evolutions`` folder."
   ]
  },
  {
   "cell_type": "code",
   "execution_count": null,
   "metadata": {
    "collapsed": true
   },
   "outputs": [],
   "source": [
    "%%bash --out output --err error\n",
    "\n",
    "source activate env_nucperiod\n",
    "mkdir -p evolutions\n",
    "\n",
    "\n",
    "for i in {1..1000}\n",
    "do\n",
    "  \n",
    "  python scripts/evolver.py evolutions/evolver --seed $i\n",
    "  \n",
    "done"
   ]
  },
  {
   "cell_type": "code",
   "execution_count": null,
   "metadata": {
    "collapsed": true
   },
   "outputs": [],
   "source": []
  }
 ],
 "metadata": {
  "kernelspec": {
   "display_name": "Python [conda env:env_nucperiod]",
   "language": "python",
   "name": "conda-env-env_nucperiod-py"
  },
  "language_info": {
   "codemirror_mode": {
    "name": "ipython",
    "version": 3
   },
   "file_extension": ".py",
   "mimetype": "text/x-python",
   "name": "python",
   "nbconvert_exporter": "python",
   "pygments_lexer": "ipython3",
   "version": "3.5.6"
  },
  "toc": {
   "nav_menu": {},
   "number_sections": true,
   "sideBar": true,
   "skip_h1_title": false,
   "title_cell": "Table of Contents",
   "title_sidebar": "Contents",
   "toc_cell": false,
   "toc_position": {},
   "toc_section_display": true,
   "toc_window_display": false
  }
 },
 "nbformat": 4,
 "nbformat_minor": 2
}
