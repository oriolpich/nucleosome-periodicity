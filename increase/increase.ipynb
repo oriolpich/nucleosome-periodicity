{
 "cells": [
  {
   "cell_type": "markdown",
   "metadata": {},
   "source": [
    "# Periodicity of the relative increase of mutation rate\n",
    "\n",
    "This notebook computes some required data for the relative increase of mutation rate analysis. That analysis has been perform for multiple data sources and for three different species:\n",
    "\n",
    "- [H. sapiens](#human)\n",
    "- [A. thaliana](#thali)\n",
    "- [S. cerevisiae](#yeast)\n",
    "\n",
    "To be able to run this notebook it is required to run previously the ones in the following folders: nucleosomes.\n",
    "\n",
    "Please, note that the Relative Increase of Mutation Rate analysis is performed in other notebooks."
   ]
  },
  {
   "cell_type": "markdown",
   "metadata": {},
   "source": [
    "## H. sapiens <a id=\"human\"></a>"
   ]
  },
  {
   "cell_type": "markdown",
   "metadata": {
    "collapsed": true
   },
   "source": [
    "Compute the counts of k-mer in the human genome:\n",
    "- hg19_5mer_counts.json.gz: 5-mer counts in the whole genome\n",
    "- hg19_filtered_5mer_counts.json.gz: 5-mer counts in the mappable non-genic regions\n",
    "- hg19_exons_5mer_counts.json.gz: 5-mer counts in the exonic regions\n",
    "- hg19_filtered_nodyads_5mer_counts.json.gz: 5-mer counts in mappable non-genic regions that do not belong to any nucleosomes\n",
    "- hg19_3mer_counts.json.gz: 3-mer counts in the whole genome\n",
    "- hg19_filtered_3mer_counts.json.gz: 3-mer counts in the mappable non-genic regions"
   ]
  },
  {
   "cell_type": "code",
   "execution_count": null,
   "metadata": {
    "collapsed": true
   },
   "outputs": [],
   "source": [
    "%%bash --out output1 --err error1\n",
    "# TODO remove\n",
    "\n",
    "source activate env_nucperiod\n",
    "\n",
    "genome=\"hg19\"\n",
    "kmer=5\n",
    "cores=6\n",
    "mapping=${PWD}/../nucleosomes/sapiens\n",
    "scripts=${PWD}/scripts\n",
    "\n",
    "mkdir -p sapiens\n",
    "cd sapiens\n",
    "\n",
    "# Remove chrM form coverage file\n",
    "zcat ${mapping}/coverage.bed.gz | \\\n",
    "    awk '{OFS=\"\\t\"}{if ($1 != \"chrM\") {print $0}}' | \\\n",
    "    gzip > coverage.bed.gz\n",
    "\n",
    "# Create a third file with regions that do not fall into any dyad\n",
    "zcat ${mapping}/dyads.bed.gz | \\\n",
    "    awk '{OFS=\"\\t\";}{print $1, $2-73, $3+73}' | \\\n",
    "    subtractBed -a coverage.bed.gz -b stdin | \\\n",
    "    gzip > nodyads.bed.gz\n",
    "\n",
    "\n",
    "# Whole genome 5 mer counts  (used for the zoomout analysis)\n",
    "python ${scripts}/genome_content_extended.py ${genome} ${genome}_${kmer}mer_counts.json.gz \\\n",
    "    --cores ${cores} --kmer ${kmer}\n",
    "        \n",
    "# Filtered genome 5 mer counts (used for the zoomin analysis)\n",
    "python ${scripts}/genome_content_extended.py ${genome} ${genome}_filtered_${kmer}mer_counts.json.gz \\\n",
    "    --regions coverage.bed.gz --cores ${cores} --kmer ${kmer}\n",
    "\n",
    "# Exons 5-mer counts (used for analysing PanCanAtlas data)\n",
    "python ${scripts}/genome_content_extended.py ${genome} ${genome}_exons_${kmer}mer_counts.json.gz \\\n",
    "    --regions ${mapping}/exons.merged.bed.gz --cores ${cores} --kmer ${kmer}\n",
    "\n",
    "\n",
    "# Other files used for comparison\n",
    "\n",
    "# Filtered genome without nucleosomes 5-mer counts  (used for the no nucleosomes in context analysis)\n",
    "python ${scripts}/genome_content_extended.py ${genome} ${genome}_filtered_nodyads_${kmer}mer_counts.json.gz \\\n",
    "    --regions nodyads.bed.gz --cores ${cores} --kmer ${kmer} \n",
    "\n",
    "kmer=3\n",
    "# Whole genome 3 mer counts  (used for the zoomout analysis)\n",
    "python ${scripts}/genome_content_extended.py ${genome} ${genome}_${kmer}mer_counts.json.gz \\\n",
    "    --cores ${cores} --kmer ${kmer}\n",
    "        \n",
    "# Filtered genome 3 mer counts (used for the zoomin analysis)\n",
    "python ${scripts}/genome_content_extended.py ${genome} ${genome}_filtered_${kmer}mer_counts.json.gz \\\n",
    "    --regions coverage.bed.gz --cores ${cores} --kmer ${kmer}"
   ]
  },
  {
   "cell_type": "markdown",
   "metadata": {},
   "source": [
    "Compute, for each position of a dyad, the number of dyads that are nearby  (this will used for the zoomout analysis)."
   ]
  },
  {
   "cell_type": "code",
   "execution_count": null,
   "metadata": {
    "collapsed": true
   },
   "outputs": [],
   "source": [
    "%%bash --out output2 --err error2\n",
    "\n",
    "source activate env_nucperiod\n",
    "\n",
    "nucleosomes=${PWD}/../nucleosomes/sapiens/dyads.bed.gz\n",
    "scripts=${PWD}/scripts\n",
    "\n",
    "cd sapiens\n",
    "\n",
    "zcat ${nucleosomes} | \\\n",
    "    awk '{OFS=\"\\t\"}{print $1, $2-1000, $3+1000, $1 \"_\" $2 \"_\" $3 }' | \\\n",
    "    intersectBed -a stdin -b  ${nucleosomes}  -sorted  -wo | \\\n",
    "    awk '{OFS=\"\\t\"}{print $4, $6-($2+1000)}' | gzip > closer_dyads.tsv.gz\n",
    "\n",
    "python ${scripts}/closer_dyads_list.py closer_dyads.tsv.gz closer_dyads.npy"
   ]
  },
  {
   "cell_type": "markdown",
   "metadata": {
    "collapsed": true
   },
   "source": [
    "## A. thaliana <a id=\"thali\"></a>"
   ]
  },
  {
   "cell_type": "markdown",
   "metadata": {},
   "source": [
    "Compute 5-mer counts in the TAIR10 genome excluding genic regions."
   ]
  },
  {
   "cell_type": "code",
   "execution_count": null,
   "metadata": {
    "collapsed": true
   },
   "outputs": [],
   "source": [
    "%%bash --out output3 --err error3\n",
    "\n",
    "source activate env_nucperiod\n",
    "\n",
    "genome=\"tair10\"\n",
    "kmer=5\n",
    "cores=6\n",
    "mapping=${PWD}/../nucleosomes/thaliana\n",
    "scripts=${PWD}/scripts\n",
    "\n",
    "mkdir -p thaliana\n",
    "cd thaliana\n",
    "\n",
    "awk '{OFS=\"\\t\"}{if ($1 != \"chrM\" && $1 != \"chrC\") {print $1, 0, $2}}' ${mapping}/tair10.chrom.sizes | \\\n",
    "    subtractBed -a stdin -b ${mapping}/TAIR10_CDS.bed.gz | gzip > coverage.bed.gz\n",
    "\n",
    "python ${scripts}/genome_content_extended.py ${genome} ${genome}_filtered_${kmer}mer_counts.json.gz \\\n",
    "    --regions coverage.bed.gz --cores ${cores} --kmer ${kmer}"
   ]
  },
  {
   "cell_type": "markdown",
   "metadata": {},
   "source": [
    "## S. cererevisiae <a id=\"yeast\"></a>"
   ]
  },
  {
   "cell_type": "markdown",
   "metadata": {},
   "source": [
    "Compute the counts of the 5-mers in the sacCer3 genome."
   ]
  },
  {
   "cell_type": "code",
   "execution_count": null,
   "metadata": {
    "collapsed": true
   },
   "outputs": [],
   "source": [
    "%%bash --out output4 --err error4\n",
    "\n",
    "source activate env_nucperiod\n",
    "\n",
    "genome=\"saccer3\"\n",
    "kmer=5\n",
    "cores=6\n",
    "scripts=${PWD}/scripts\n",
    "\n",
    "mkdir -p cerevisiae\n",
    "cd cerevisiae\n",
    "\n",
    "python ${scripts}/genome_content_extended.py ${genome} ${genome}_${kmer}mer_counts.json.gz \\\n",
    "    --cores ${cores} --kmer ${kmer}"
   ]
  },
  {
   "cell_type": "code",
   "execution_count": null,
   "metadata": {
    "collapsed": true
   },
   "outputs": [],
   "source": []
  }
 ],
 "metadata": {
  "kernelspec": {
   "display_name": "Python [conda env:env_nucperiod]",
   "language": "python",
   "name": "conda-env-env_nucperiod-py"
  },
  "language_info": {
   "codemirror_mode": {
    "name": "ipython",
    "version": 3
   },
   "file_extension": ".py",
   "mimetype": "text/x-python",
   "name": "python",
   "nbconvert_exporter": "python",
   "pygments_lexer": "ipython3",
   "version": "3.5.6"
  },
  "toc": {
   "nav_menu": {},
   "number_sections": true,
   "sideBar": true,
   "skip_h1_title": false,
   "title_cell": "Table of Contents",
   "title_sidebar": "Contents",
   "toc_cell": false,
   "toc_position": {},
   "toc_section_display": true,
   "toc_window_display": false
  }
 },
 "nbformat": 4,
 "nbformat_minor": 2
}
