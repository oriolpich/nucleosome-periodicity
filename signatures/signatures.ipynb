{
 "cells": [
  {
   "cell_type": "markdown",
   "metadata": {},
   "source": [
    "# Mutational signatures fitting and assignment\n",
    "\n",
    "\n",
    "The goal is to assess which mutational signatures are active in each tumor sample in the [TCGA 505](#tcga), [ICGC](#icgc) and [PanCanAtlas](#pca) cohorts.\n",
    "\n",
    "The workflow is:\n",
    "- preprocess the mutational data to generate the format required for the analysis\n",
    "- compute the weights associated to each signature in each sample\n",
    "- compute the most probable signature contributing to each mutation\n",
    "- if possible, concatenate all the mutations that come from the same signature\n",
    "- perform the relative increase of mutation rate analysis\n",
    "\n",
    "To be able to run this notebook it is required to run previously the ones in the following folders: nucleosomes, rotational, mutations and increase. In addition, you need to download the probabilities of the signatures from https://cancer.sanger.ac.uk/cancergenome/assets/signatures_probabilities.txt\n",
    "\n",
    "Please, note that samples with less than 50 mutations are discarded for this analysis."
   ]
  },
  {
   "cell_type": "markdown",
   "metadata": {},
   "source": [
    "## TCGA <a id=\"tcga\"></a>\n",
    "\n",
    "TCGA 505 data has been analysed making used of [deconstructsigs](#tcgad) and [sigfit](#tcgas) R packages."
   ]
  },
  {
   "cell_type": "markdown",
   "metadata": {},
   "source": [
    "### DeconstructSigs <a id=\"tcgad\"></a>\n",
    "\n",
    "The results can be found inside the ``tcga`` directory. In addition, we have added all mutations coming from the same signature (find output in the ``signatures_tcga`` folder)."
   ]
  },
  {
   "cell_type": "markdown",
   "metadata": {},
   "source": [
    "Run *deconstructsigs* for each cohort and then add all equal signatures together."
   ]
  },
  {
   "cell_type": "code",
   "execution_count": null,
   "metadata": {
    "collapsed": true
   },
   "outputs": [],
   "source": [
    "%%bash --out output1 --err error1\n",
    "\n",
    "scripts=${PWD}/scripts\n",
    "mutations=${PWD}/../mutations\n",
    "\n",
    "mkdir -p tcga\n",
    "bash ${scripts}/deconstructsigs.sh ${mutations}/tcga/cohorts tcga wgs\n",
    "\n",
    "# Concatenate all mutations comming from same signatures\n",
    "mkdir -p tcga_joined\n",
    "python ${scripts}/join.py tcga tcga_joined"
   ]
  },
  {
   "cell_type": "markdown",
   "metadata": {},
   "source": [
    "Compute the relative increse of mutation rate for the addition of signatures:\n",
    "- zoomin analysis using all dyads\n",
    "- zoomin analysis using high rotational dyads\n",
    "- zoomin analysis using low rotational dyads\n",
    "- zoomout analysis"
   ]
  },
  {
   "cell_type": "code",
   "execution_count": null,
   "metadata": {
    "collapsed": true
   },
   "outputs": [],
   "source": [
    "%%bash --out output2 --err error2\n",
    "\n",
    "source activate env_nucperiod\n",
    "\n",
    "increase_scripts=${PWD}/../increase/scripts\n",
    "increase=${PWD}/../increase/sapiens\n",
    "mapping=${PWD}/../nucleosomes/sapiens\n",
    "rotational=${PWD}/../rotational/sapiens\n",
    "\n",
    "cd tcga_joined\n",
    "\n",
    "for file in Signature_*.tsv.gz\n",
    "do\n",
    "    \n",
    "    f=$(basename ${file})\n",
    "    name=${f/.tsv.gz/}\n",
    "    \n",
    "    # Zoomin\n",
    "    bash ${increase_scripts}/increase.sh ${file} zoomin hg19 5 ${mapping}/dyads.bed.gz \\\n",
    "        ${increase}/hg19_filtered_5mer_counts.json.gz increase/${name}\n",
    "        \n",
    "    # Rotational high\n",
    "    bash ${increase_scripts}/increase.sh ${file} zoomin hg19 5 ${rotational}/high_rotational_dyads.bed.gz \\\n",
    "        ${increase}/hg19_filtered_5mer_counts.json.gz increase_rot_high/${name}\n",
    "        \n",
    "    # Rotational low\n",
    "    bash ${increase_scripts}/increase.sh ${file} zoomin hg19 5 ${rotational}/low_rotational_dyads.bed.gz \\\n",
    "        ${increase}/hg19_filtered_5mer_counts.json.gz increase_rot_low/${name}\n",
    "        \n",
    "    # Zoomout\n",
    "    bash ${increase_scripts}/increase.sh ${file} zoomout hg19 5 ${mapping}/dyads.bed.gz \\\n",
    "        ${increase}/hg19_5mer_counts.json.gz increase_zoomout/${name} ${increase}/closer_dyads.npy\n",
    "        \n",
    "done"
   ]
  },
  {
   "cell_type": "markdown",
   "metadata": {},
   "source": [
    "Compute the relative increse of mutation rate for the each signature in each tumor type (using all dyads)."
   ]
  },
  {
   "cell_type": "code",
   "execution_count": null,
   "metadata": {
    "collapsed": true
   },
   "outputs": [],
   "source": [
    "%%bash --out output3 --err error3\n",
    "\n",
    "source activate env_nucperiod\n",
    "\n",
    "increase_scripts=${PWD}/../increase/scripts\n",
    "increase=${PWD}/../increase/sapiens\n",
    "mapping=${PWD}/../nucleosomes/sapiens\n",
    "\n",
    "cd tcga\n",
    "\n",
    "for ctype in $(find . -maxdepth 1 -mindepth 1 -type d)\n",
    "do\n",
    "    for file in ${ctype}/Signature_*.tsv.gz\n",
    "    do\n",
    "        \n",
    "        f=$(basename ${file})\n",
    "        name=${f/.tsv.gz/}\n",
    "    \n",
    "        # Zoomin\n",
    "        bash ${increase_scripts}/increase.sh ${file} zoomin hg19 5 ${mapping}/dyads.bed.gz \\\n",
    "            ${increase}/hg19_filtered_5mer_counts.json.gz increase/${ctype}_${name}\n",
    "    \n",
    "    done        \n",
    "done"
   ]
  },
  {
   "cell_type": "markdown",
   "metadata": {},
   "source": [
    "### Sigfit <a id=\"tcgas\"></a>\n",
    "\n",
    "The results can be found inside the ``tcga_sigfit`` directory. In addition, we have added all mutations coming from the same signature (find output in the ``signatures_tcga_sigfit`` folder)."
   ]
  },
  {
   "cell_type": "markdown",
   "metadata": {},
   "source": [
    "Run *sigfit* for each cohort and then add all equal signatures together"
   ]
  },
  {
   "cell_type": "code",
   "execution_count": null,
   "metadata": {
    "collapsed": true
   },
   "outputs": [],
   "source": [
    "%%bash --out output4 --err error4\n",
    "\n",
    "scripts=${PWD}/scripts\n",
    "mutations=${PWD}/../mutations\n",
    "\n",
    "mkdir -p tcga_sigfit\n",
    "bash ${scripts}/sigfit.sh ${mutations}/tcga/cohorts tcga_sigfit\n",
    "\n",
    "# Concatenate all mutations comming from same signatures\n",
    "mkdir -p tcga_joined_sigfit\n",
    "python scripts/join.py tcga_sigfit tcga_joined_sigfit"
   ]
  },
  {
   "cell_type": "markdown",
   "metadata": {},
   "source": [
    "Compute the relative increse of mutation rate for the addition of signatures."
   ]
  },
  {
   "cell_type": "code",
   "execution_count": null,
   "metadata": {
    "collapsed": true
   },
   "outputs": [],
   "source": [
    "%%bash --out output5 --err error5\n",
    "\n",
    "source activate env_nucperiod\n",
    "\n",
    "increase_scripts=${PWD}/../increase/scripts\n",
    "increase=${PWD}/../increase/sapiens\n",
    "mapping=${PWD}/../nucleosomes/sapiens\n",
    "\n",
    "cd tcga_joined_sigfit\n",
    "\n",
    "for file in Signature*.tsv.gz\n",
    "do\n",
    "\n",
    "    f=$(basename ${file})\n",
    "    name=${f/.tsv.gz/}\n",
    "\n",
    "    # Zoomin\n",
    "    bash ${increase_scripts}/increase.sh ${file} zoomin hg19 5 ${mapping}/dyads.bed.gz \\\n",
    "        ${increase}/hg19_filtered_5mer_counts.json.gz increase/${name}\n",
    "\n",
    "done"
   ]
  },
  {
   "cell_type": "markdown",
   "metadata": {
    "collapsed": true
   },
   "source": [
    "## ICGC <a id=\"icgcd\"></a>\n",
    "\n",
    "TCGA 505 data has been analysed using deconstructsigs R package."
   ]
  },
  {
   "cell_type": "markdown",
   "metadata": {},
   "source": [
    "Run *deconstructsigs* for each cohort"
   ]
  },
  {
   "cell_type": "code",
   "execution_count": null,
   "metadata": {
    "collapsed": true
   },
   "outputs": [],
   "source": [
    "%%bash --out output6 --err error6\n",
    "\n",
    "scripts=${PWD}/scripts\n",
    "mutations=${PWD}/../mutations\n",
    "\n",
    "mkdir -p icgc\n",
    "bash ${scripts}/deconstructsigs.sh ${mutations}/icgc/cohorts icgc wgs"
   ]
  },
  {
   "cell_type": "markdown",
   "metadata": {},
   "source": [
    "Compute the relative increse of mutation rate for the each signatures in each tumor type"
   ]
  },
  {
   "cell_type": "code",
   "execution_count": null,
   "metadata": {
    "collapsed": true
   },
   "outputs": [],
   "source": [
    "%%bash --out output7 --err error7\n",
    "\n",
    "source activate env_nucperiod\n",
    "\n",
    "increase_scripts=${PWD}/../increase/scripts\n",
    "increase=${PWD}/../increase/sapiens\n",
    "mapping=${PWD}/../nucleosomes/sapiens\n",
    "\n",
    "cd icgc\n",
    "\n",
    "for ctype in $(find . -maxdepth 1 -mindepth 1 -type d)\n",
    "do\n",
    "    for file in ${ctype}/Signature_*.tsv.gz\n",
    "    do\n",
    "    \n",
    "        if [ \"${file}\" == \"${ctype}/Signature_*.tsv.gz\" ]\n",
    "        then\n",
    "            continue\n",
    "        fi\n",
    "    \n",
    "        f=$(basename ${file})\n",
    "        name=${f/.tsv.gz/}\n",
    "\n",
    "        # Zoomin\n",
    "        bash ${increase_scripts}/increase.sh ${file} zoomin hg19 5 ${mapping}/dyads.bed.gz \\\n",
    "            ${increase}/hg19_filtered_5mer_counts.json.gz increase/${ctype}_${name}\n",
    "    \n",
    "    done        \n",
    "done"
   ]
  },
  {
   "cell_type": "markdown",
   "metadata": {
    "collapsed": true
   },
   "source": [
    "### PanCanAtlas <a id=\"pcad\"></a>"
   ]
  },
  {
   "cell_type": "markdown",
   "metadata": {},
   "source": [
    "Run *deconstructsigs* for each cohort and then add all equal signatures together"
   ]
  },
  {
   "cell_type": "code",
   "execution_count": null,
   "metadata": {
    "collapsed": true
   },
   "outputs": [],
   "source": [
    "%%bash --out output8 --err error8\n",
    "\n",
    "scripts=${PWD}/scripts\n",
    "mutations=${PWD}/../mutations\n",
    "\n",
    "mkdir -p pancanatlas\n",
    "bash ${scripts}/deconstructsigs.sh ${mutations}/pancanatlas pancanatlas wes\n",
    "\n",
    "# Concatenate all mutations comming from same signatures\n",
    "mkdir -p pancanatlas_joined\n",
    "python scripts/join.py pancanatlas pancanatlas_joined"
   ]
  },
  {
   "cell_type": "markdown",
   "metadata": {
    "collapsed": true
   },
   "source": [
    "Compute the relative increse of mutation rate for the addition of signatures"
   ]
  },
  {
   "cell_type": "code",
   "execution_count": null,
   "metadata": {
    "collapsed": true
   },
   "outputs": [],
   "source": [
    "%%bash --out output9 --err error9\n",
    "\n",
    "source activate env_nucperiod\n",
    "\n",
    "increase_scripts=${PWD}/../increase/scripts\n",
    "increase=${PWD}/../increase/sapiens\n",
    "mapping=${PWD}/../nucleosomes/sapiens\n",
    "\n",
    "cd pancanatlas_joined\n",
    "\n",
    "for file in Signature_*.tsv.gz\n",
    "do\n",
    "\n",
    "    f=$(basename ${file})\n",
    "    name=${f/.tsv.gz/}\n",
    "    \n",
    "    # Zoomin\n",
    "    bash ${increase_scripts}/increase.sh ${file} zoomin hg19 5 ${mapping}/dyads_genic.bed.gz \\\n",
    "        ${increase}/hg19_exons_5mer_counts.json.gz increase/${name}\n",
    "\n",
    "done"
   ]
  },
  {
   "cell_type": "markdown",
   "metadata": {
    "collapsed": true
   },
   "source": [
    "## Eyelid"
   ]
  },
  {
   "cell_type": "code",
   "execution_count": null,
   "metadata": {
    "collapsed": true
   },
   "outputs": [],
   "source": [
    "%%bash --out output10 --err error10\n",
    "\n",
    "scripts=${PWD}/scripts\n",
    "mutations=${PWD}/../mutations\n",
    "\n",
    "mkdir -p eyelid\n",
    "bash ${scripts}/deconstructsigs.sh ${mutations}/eyelid eyelid wgs"
   ]
  }
 ],
 "metadata": {
  "kernelspec": {
   "display_name": "Python [conda env:env_nucperiod]",
   "language": "python",
   "name": "conda-env-env_nucperiod-py"
  },
  "language_info": {
   "codemirror_mode": {
    "name": "ipython",
    "version": 3
   },
   "file_extension": ".py",
   "mimetype": "text/x-python",
   "name": "python",
   "nbconvert_exporter": "python",
   "pygments_lexer": "ipython3",
   "version": "3.5.6"
  },
  "toc": {
   "nav_menu": {},
   "number_sections": true,
   "sideBar": true,
   "skip_h1_title": false,
   "title_cell": "Table of Contents",
   "title_sidebar": "Contents",
   "toc_cell": false,
   "toc_position": {},
   "toc_section_display": true,
   "toc_window_display": false
  }
 },
 "nbformat": 4,
 "nbformat_minor": 2
}
